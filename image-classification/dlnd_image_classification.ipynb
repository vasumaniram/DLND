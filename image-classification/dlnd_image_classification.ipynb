{
 "cells": [
  {
   "cell_type": "markdown",
   "metadata": {
    "collapsed": true,
    "deletable": true,
    "editable": true
   },
   "source": [
    "# Image Classification\n",
    "In this project, you'll classify images from the [CIFAR-10 dataset](https://www.cs.toronto.edu/~kriz/cifar.html).  The dataset consists of airplanes, dogs, cats, and other objects. You'll preprocess the images, then train a convolutional neural network on all the samples. The images need to be normalized and the labels need to be one-hot encoded.  You'll get to apply what you learned and build a convolutional, max pooling, dropout, and fully connected layers.  At the end, you'll get to see your neural network's predictions on the sample images.\n",
    "## Get the Data\n",
    "Run the following cell to download the [CIFAR-10 dataset for python](https://www.cs.toronto.edu/~kriz/cifar-10-python.tar.gz)."
   ]
  },
  {
   "cell_type": "code",
   "execution_count": 2,
   "metadata": {
    "collapsed": false,
    "deletable": true,
    "editable": true
   },
   "outputs": [
    {
     "name": "stdout",
     "output_type": "stream",
     "text": [
      "All files found!\n"
     ]
    }
   ],
   "source": [
    "\"\"\"\n",
    "DON'T MODIFY ANYTHING IN THIS CELL THAT IS BELOW THIS LINE\n",
    "\"\"\"\n",
    "from urllib.request import urlretrieve\n",
    "from os.path import isfile, isdir\n",
    "from tqdm import tqdm\n",
    "import problem_unittests as tests\n",
    "import tarfile\n",
    "\n",
    "cifar10_dataset_folder_path = 'cifar-10-batches-py'\n",
    "\n",
    "# Use Floyd's cifar-10 dataset if present\n",
    "floyd_cifar10_location = '/input/cifar-10/python.tar.gz'\n",
    "if isfile(floyd_cifar10_location):\n",
    "    tar_gz_path = floyd_cifar10_location\n",
    "else:\n",
    "    tar_gz_path = 'cifar-10-python.tar.gz'\n",
    "\n",
    "class DLProgress(tqdm):\n",
    "    last_block = 0\n",
    "\n",
    "    def hook(self, block_num=1, block_size=1, total_size=None):\n",
    "        self.total = total_size\n",
    "        self.update((block_num - self.last_block) * block_size)\n",
    "        self.last_block = block_num\n",
    "\n",
    "if not isfile(tar_gz_path):\n",
    "    with DLProgress(unit='B', unit_scale=True, miniters=1, desc='CIFAR-10 Dataset') as pbar:\n",
    "        urlretrieve(\n",
    "            'https://www.cs.toronto.edu/~kriz/cifar-10-python.tar.gz',\n",
    "            tar_gz_path,\n",
    "            pbar.hook)\n",
    "\n",
    "if not isdir(cifar10_dataset_folder_path):\n",
    "    with tarfile.open(tar_gz_path) as tar:\n",
    "        tar.extractall()\n",
    "        tar.close()\n",
    "\n",
    "\n",
    "tests.test_folder_path(cifar10_dataset_folder_path)"
   ]
  },
  {
   "cell_type": "markdown",
   "metadata": {
    "deletable": true,
    "editable": true
   },
   "source": [
    "## Explore the Data\n",
    "The dataset is broken into batches to prevent your machine from running out of memory.  The CIFAR-10 dataset consists of 5 batches, named `data_batch_1`, `data_batch_2`, etc.. Each batch contains the labels and images that are one of the following:\n",
    "* airplane\n",
    "* automobile\n",
    "* bird\n",
    "* cat\n",
    "* deer\n",
    "* dog\n",
    "* frog\n",
    "* horse\n",
    "* ship\n",
    "* truck\n",
    "\n",
    "Understanding a dataset is part of making predictions on the data.  Play around with the code cell below by changing the `batch_id` and `sample_id`. The `batch_id` is the id for a batch (1-5). The `sample_id` is the id for a image and label pair in the batch.\n",
    "\n",
    "Ask yourself \"What are all possible labels?\", \"What is the range of values for the image data?\", \"Are the labels in order or random?\".  Answers to questions like these will help you preprocess the data and end up with better predictions."
   ]
  },
  {
   "cell_type": "code",
   "execution_count": 3,
   "metadata": {
    "collapsed": false,
    "deletable": true,
    "editable": true
   },
   "outputs": [
    {
     "name": "stdout",
     "output_type": "stream",
     "text": [
      "\n",
      "Stats of batch 1:\n",
      "Samples: 10000\n",
      "Label Counts: {0: 1005, 1: 974, 2: 1032, 3: 1016, 4: 999, 5: 937, 6: 1030, 7: 1001, 8: 1025, 9: 981}\n",
      "First 20 Labels: [6, 9, 9, 4, 1, 1, 2, 7, 8, 3, 4, 7, 7, 2, 9, 9, 9, 3, 2, 6]\n",
      "\n",
      "Example of Image 5:\n",
      "Image - Min Value: 0 Max Value: 252\n",
      "Image - Shape: (32, 32, 3)\n",
      "Label - Label Id: 1 Name: automobile\n"
     ]
    },
    {
     "data": {
      "image/png": "[encoded data removed]",
      "text/plain": [
       "<matplotlib.figure.Figure at 0x7fe4281b7828>"
      ]
     },
     "metadata": {
      "image/png": {
       "height": 250,
       "width": 253
      }
     },
     "output_type": "display_data"
    }
   ],
   "source": [
    "%matplotlib inline\n",
    "%config InlineBackend.figure_format = 'retina'\n",
    "\n",
    "import helper\n",
    "import numpy as np\n",
    "\n",
    "# Explore the dataset\n",
    "batch_id = 1\n",
    "sample_id = 5\n",
    "helper.display_stats(cifar10_dataset_folder_path, batch_id, sample_id)"
   ]
  },
  {
   "cell_type": "markdown",
   "metadata": {
    "deletable": true,
    "editable": true
   },
   "source": [
    "## Implement Preprocess Functions\n",
    "### Normalize\n",
    "In the cell below, implement the `normalize` function to take in image data, `x`, and return it as a normalized Numpy array. The values should be in the range of 0 to 1, inclusive.  The return object should be the same shape as `x`."
   ]
  },
  {
   "cell_type": "code",
   "execution_count": 6,
   "metadata": {
    "collapsed": false,
    "deletable": true,
    "editable": true
   },
   "outputs": [
    {
     "name": "stdout",
     "output_type": "stream",
     "text": [
      "Tests Passed\n"
     ]
    }
   ],
   "source": [
    "def normalize(x):\n",
    "    \"\"\"\n",
    "    Normalize a list of sample image data in the range of 0 to 1\n",
    "    : x: List of image data.  The image shape is (32, 32, 3)\n",
    "    : return: Numpy array of normalize data\n",
    "    \"\"\"\n",
    "    # TODO: Implement Function\n",
    "    return x/255\n",
    "\n",
    "\n",
    "\"\"\"\n",
    "DON'T MODIFY ANYTHING IN THIS CELL THAT IS BELOW THIS LINE\n",
    "\"\"\"\n",
    "tests.test_normalize(normalize)"
   ]
  },
  {
   "cell_type": "markdown",
   "metadata": {
    "deletable": true,
    "editable": true
   },
   "source": [
    "### One-hot encode\n",
    "Just like the previous code cell, you'll be implementing a function for preprocessing.  This time, you'll implement the `one_hot_encode` function. The input, `x`, are a list of labels.  Implement the function to return the list of labels as One-Hot encoded Numpy array.  The possible values for labels are 0 to 9. The one-hot encoding function should return the same encoding for each value between each call to `one_hot_encode`.  Make sure to save the map of encodings outside the function.\n",
    "\n",
    "Hint: Don't reinvent the wheel."
   ]
  },
  {
   "cell_type": "code",
   "execution_count": 7,
   "metadata": {
    "collapsed": false,
    "deletable": true,
    "editable": true
   },
   "outputs": [
    {
     "name": "stdout",
     "output_type": "stream",
     "text": [
      "Tests Passed\n"
     ]
    }
   ],
   "source": [
    "def one_hot_encode(x):\n",
    "    \"\"\"\n",
    "    One hot encode a list of sample labels. Return a one-hot encoded vector for each label.\n",
    "    : x: List of sample Labels\n",
    "    : return: Numpy array of one-hot encoded labels\n",
    "    \"\"\"\n",
    "    \n",
    "    # TODO: Implement Function\n",
    "    return np.eye(10, dtype=np.float32)[x]\n",
    "\n",
    "\n",
    "\"\"\"\n",
    "DON'T MODIFY ANYTHING IN THIS CELL THAT IS BELOW THIS LINE\n",
    "\"\"\"\n",
    "tests.test_one_hot_encode(one_hot_encode)"
   ]
  },
  {
   "cell_type": "markdown",
   "metadata": {
    "deletable": true,
    "editable": true
   },
   "source": [
    "### Randomize Data\n",
    "As you saw from exploring the data above, the order of the samples are randomized.  It doesn't hurt to randomize it again, but you don't need to for this dataset."
   ]
  },
  {
   "cell_type": "markdown",
   "metadata": {
    "deletable": true,
    "editable": true
   },
   "source": [
    "## Preprocess all the data and save it\n",
    "Running the code cell below will preprocess all the CIFAR-10 data and save it to file. The code below also uses 10% of the training data for validation."
   ]
  },
  {
   "cell_type": "code",
   "execution_count": 8,
   "metadata": {
    "collapsed": true,
    "deletable": true,
    "editable": true
   },
   "outputs": [],
   "source": [
    "\"\"\"\n",
    "DON'T MODIFY ANYTHING IN THIS CELL\n",
    "\"\"\"\n",
    "# Preprocess Training, Validation, and Testing Data\n",
    "helper.preprocess_and_save_data(cifar10_dataset_folder_path, normalize, one_hot_encode)"
   ]
  },
  {
   "cell_type": "markdown",
   "metadata": {
    "deletable": true,
    "editable": true
   },
   "source": [
    "# Check Point\n",
    "This is your first checkpoint.  If you ever decide to come back to this notebook or have to restart the notebook, you can start from here.  The preprocessed data has been saved to disk."
   ]
  },
  {
   "cell_type": "code",
   "execution_count": 24,
   "metadata": {
    "collapsed": true,
    "deletable": true,
    "editable": true
   },
   "outputs": [],
   "source": [
    "\"\"\"\n",
    "DON'T MODIFY ANYTHING IN THIS CELL\n",
    "\"\"\"\n",
    "import pickle\n",
    "import problem_unittests as tests\n",
    "import helper\n",
    "\n",
    "# Load the Preprocessed Validation data\n",
    "valid_features, valid_labels = pickle.load(open('preprocess_validation.p', mode='rb'))"
   ]
  },
  {
   "cell_type": "markdown",
   "metadata": {
    "deletable": true,
    "editable": true
   },
   "source": [
    "## Build the network\n",
    "For the neural network, you'll build each layer into a function.  Most of the code you've seen has been outside of functions. To test your code more thoroughly, we require that you put each layer in a function.  This allows us to give you better feedback and test for simple mistakes using our unittests before you submit your project.\n",
    "\n",
    ">**Note:** If you're finding it hard to dedicate enough time for this course each week, we've provided a small shortcut to this part of the project. In the next couple of problems, you'll have the option to use classes from the [TensorFlow Layers](https://www.tensorflow.org/api_docs/python/tf/layers) or [TensorFlow Layers (contrib)](https://www.tensorflow.org/api_guides/python/contrib.layers) packages to build each layer, except the layers you build in the \"Convolutional and Max Pooling Layer\" section.  TF Layers is similar to Keras's and TFLearn's abstraction to layers, so it's easy to pickup.\n",
    "\n",
    ">However, if you would like to get the most out of this course, try to solve all the problems _without_ using anything from the TF Layers packages. You **can** still use classes from other packages that happen to have the same name as ones you find in TF Layers! For example, instead of using the TF Layers version of the `conv2d` class, [tf.layers.conv2d](https://www.tensorflow.org/api_docs/python/tf/layers/conv2d), you would want to use the TF Neural Network version of `conv2d`, [tf.nn.conv2d](https://www.tensorflow.org/api_docs/python/tf/nn/conv2d). \n",
    "\n",
    "Let's begin!\n",
    "\n",
    "### Input\n",
    "The neural network needs to read the image data, one-hot encoded labels, and dropout keep probability. Implement the following functions\n",
    "* Implement `neural_net_image_input`\n",
    " * Return a [TF Placeholder](https://www.tensorflow.org/api_docs/python/tf/placeholder)\n",
    " * Set the shape using `image_shape` with batch size set to `None`.\n",
    " * Name the TensorFlow placeholder \"x\" using the TensorFlow `name` parameter in the [TF Placeholder](https://www.tensorflow.org/api_docs/python/tf/placeholder).\n",
    "* Implement `neural_net_label_input`\n",
    " * Return a [TF Placeholder](https://www.tensorflow.org/api_docs/python/tf/placeholder)\n",
    " * Set the shape using `n_classes` with batch size set to `None`.\n",
    " * Name the TensorFlow placeholder \"y\" using the TensorFlow `name` parameter in the [TF Placeholder](https://www.tensorflow.org/api_docs/python/tf/placeholder).\n",
    "* Implement `neural_net_keep_prob_input`\n",
    " * Return a [TF Placeholder](https://www.tensorflow.org/api_docs/python/tf/placeholder) for dropout keep probability.\n",
    " * Name the TensorFlow placeholder \"keep_prob\" using the TensorFlow `name` parameter in the [TF Placeholder](https://www.tensorflow.org/api_docs/python/tf/placeholder).\n",
    "\n",
    "These names will be used at the end of the project to load your saved model.\n",
    "\n",
    "Note: `None` for shapes in TensorFlow allow for a dynamic size."
   ]
  },
  {
   "cell_type": "code",
   "execution_count": 25,
   "metadata": {
    "collapsed": false,
    "deletable": true,
    "editable": true
   },
   "outputs": [
    {
     "name": "stdout",
     "output_type": "stream",
     "text": [
      "Image Input Tests Passed.\n",
      "Label Input Tests Passed.\n",
      "Keep Prob Tests Passed.\n"
     ]
    }
   ],
   "source": [
    "import tensorflow as tf\n",
    "\n",
    "def neural_net_image_input(image_shape):\n",
    "    \"\"\"\n",
    "    Return a Tensor for a batch of image input\n",
    "    : image_shape: Shape of the images\n",
    "    : return: Tensor for image input.\n",
    "    \"\"\"\n",
    "    # TODO: Implement Function\n",
    "    return tf.placeholder(dtype=tf.float32,name='x',shape=(None,*image_shape))\n",
    "\n",
    "\n",
    "def neural_net_label_input(n_classes):\n",
    "    \"\"\"\n",
    "    Return a Tensor for a batch of label input\n",
    "    : n_classes: Number of classes\n",
    "    : return: Tensor for label input.\n",
    "    \"\"\"\n",
    "    # TODO: Implement Function\n",
    "    return tf.placeholder(dtype=tf.float32,name='y',shape=(None,n_classes))\n",
    "\n",
    "\n",
    "def neural_net_keep_prob_input():\n",
    "    \"\"\"\n",
    "    Return a Tensor for keep probability\n",
    "    : return: Tensor for keep probability.\n",
    "    \"\"\"\n",
    "    # TODO: Implement Function\n",
    "    return tf.placeholder(dtype=tf.float32,name='keep_prob')\n",
    "\n",
    "\n",
    "\"\"\"\n",
    "DON'T MODIFY ANYTHING IN THIS CELL THAT IS BELOW THIS LINE\n",
    "\"\"\"\n",
    "tf.reset_default_graph()\n",
    "tests.test_nn_image_inputs(neural_net_image_input)\n",
    "tests.test_nn_label_inputs(neural_net_label_input)\n",
    "tests.test_nn_keep_prob_inputs(neural_net_keep_prob_input)"
   ]
  },
  {
   "cell_type": "markdown",
   "metadata": {
    "deletable": true,
    "editable": true
   },
   "source": [
    "### Convolution and Max Pooling Layer\n",
    "Convolution layers have a lot of success with images. For this code cell, you should implement the function `conv2d_maxpool` to apply convolution then max pooling:\n",
    "* Create the weight and bias using `conv_ksize`, `conv_num_outputs` and the shape of `x_tensor`.\n",
    "* Apply a convolution to `x_tensor` using weight and `conv_strides`.\n",
    " * We recommend you use same padding, but you're welcome to use any padding.\n",
    "* Add bias\n",
    "* Add a nonlinear activation to the convolution.\n",
    "* Apply Max Pooling using `pool_ksize` and `pool_strides`.\n",
    " * We recommend you use same padding, but you're welcome to use any padding.\n",
    "\n",
    "**Note:** You **can't** use [TensorFlow Layers](https://www.tensorflow.org/api_docs/python/tf/layers) or [TensorFlow Layers (contrib)](https://www.tensorflow.org/api_guides/python/contrib.layers) for **this** layer, but you can still use TensorFlow's [Neural Network](https://www.tensorflow.org/api_docs/python/tf/nn) package. You may still use the shortcut option for all the **other** layers."
   ]
  },
  {
   "cell_type": "code",
   "execution_count": 26,
   "metadata": {
    "collapsed": false,
    "deletable": true,
    "editable": true
   },
   "outputs": [
    {
     "name": "stdout",
     "output_type": "stream",
     "text": [
      "Tests Passed\n"
     ]
    }
   ],
   "source": [
    "def conv2d_maxpool(x_tensor, conv_num_outputs, conv_ksize, conv_strides, pool_ksize, pool_strides):\n",
    "    \"\"\"\n",
    "    Apply convolution then max pooling to x_tensor\n",
    "    :param x_tensor: TensorFlow Tensor\n",
    "    :param conv_num_outputs: Number of outputs for the convolutional layer\n",
    "    :param conv_ksize: kernal size 2-D Tuple for the convolutional layer\n",
    "    :param conv_strides: Stride 2-D Tuple for convolution\n",
    "    :param pool_ksize: kernal size 2-D Tuple for pool\n",
    "    :param pool_strides: Stride 2-D Tuple for pool\n",
    "    : return: A tensor that represents convolution and max pooling of x_tensor\n",
    "    \"\"\"\n",
    "    # TODO: Implement Function\n",
    "    \n",
    "    # Input Dimensions\n",
    "    i_w = x_tensor.get_shape().as_list()[1]\n",
    "    i_h = x_tensor.get_shape().as_list()[2]\n",
    "    i_d = x_tensor.get_shape().as_list()[3]\n",
    "    \n",
    "    #Filter Dimensions\n",
    "    f_w = conv_ksize[0]\n",
    "    f_h = conv_ksize[1]\n",
    "    \n",
    "    f_weights = tf.Variable(tf.truncated_normal((f_w,f_h,i_d,conv_num_outputs),stddev=0.01))\n",
    "    \n",
    "    padding = 'SAME'\n",
    "    \n",
    "    c_strides = (1,*conv_strides,1)\n",
    "    \n",
    "    #bias\n",
    "    bias = tf.Variable(tf.zeros(conv_num_outputs))\n",
    "\n",
    "    conv_layer = tf.nn.conv2d(x_tensor,f_weights,c_strides,padding)\n",
    "    conv_layer = tf.nn.bias_add(conv_layer,bias)\n",
    "    conv_layer = tf.nn.relu(conv_layer)\n",
    "    \n",
    "    p_ksize = (1,*pool_ksize,1)\n",
    "    p_strides = (1,*pool_strides,1)\n",
    "    \n",
    "    return tf.nn.max_pool(conv_layer,p_ksize,p_strides,padding) \n",
    "\n",
    "\"\"\"\n",
    "DON'T MODIFY ANYTHING IN THIS CELL THAT IS BELOW THIS LINE\n",
    "\"\"\"\n",
    "tests.test_con_pool(conv2d_maxpool)"
   ]
  },
  {
   "cell_type": "markdown",
   "metadata": {
    "deletable": true,
    "editable": true
   },
   "source": [
    "### Flatten Layer\n",
    "Implement the `flatten` function to change the dimension of `x_tensor` from a 4-D tensor to a 2-D tensor.  The output should be the shape (*Batch Size*, *Flattened Image Size*). Shortcut option: you can use classes from the [TensorFlow Layers](https://www.tensorflow.org/api_docs/python/tf/layers) or [TensorFlow Layers (contrib)](https://www.tensorflow.org/api_guides/python/contrib.layers) packages for this layer. For more of a challenge, only use other TensorFlow packages."
   ]
  },
  {
   "cell_type": "code",
   "execution_count": 27,
   "metadata": {
    "collapsed": false,
    "deletable": true,
    "editable": true
   },
   "outputs": [
    {
     "name": "stdout",
     "output_type": "stream",
     "text": [
      "Tests Passed\n"
     ]
    }
   ],
   "source": [
    "def flatten(x_tensor):\n",
    "    \"\"\"\n",
    "    Flatten x_tensor to (Batch Size, Flattened Image Size)\n",
    "    : x_tensor: A tensor of size (Batch Size, ...), where ... are the image dimensions.\n",
    "    : return: A tensor of size (Batch Size, Flattened Image Size).\n",
    "    \"\"\"\n",
    "    # TODO: Implement Function\n",
    "    return tf.contrib.layers.flatten(x_tensor)\n",
    "\n",
    "\n",
    "\"\"\"\n",
    "DON'T MODIFY ANYTHING IN THIS CELL THAT IS BELOW THIS LINE\n",
    "\"\"\"\n",
    "tests.test_flatten(flatten)"
   ]
  },
  {
   "cell_type": "markdown",
   "metadata": {
    "deletable": true,
    "editable": true
   },
   "source": [
    "### Fully-Connected Layer\n",
    "Implement the `fully_conn` function to apply a fully connected layer to `x_tensor` with the shape (*Batch Size*, *num_outputs*). Shortcut option: you can use classes from the [TensorFlow Layers](https://www.tensorflow.org/api_docs/python/tf/layers) or [TensorFlow Layers (contrib)](https://www.tensorflow.org/api_guides/python/contrib.layers) packages for this layer. For more of a challenge, only use other TensorFlow packages."
   ]
  },
  {
   "cell_type": "code",
   "execution_count": 28,
   "metadata": {
    "collapsed": false,
    "deletable": true,
    "editable": true
   },
   "outputs": [
    {
     "name": "stdout",
     "output_type": "stream",
     "text": [
      "Tests Passed\n"
     ]
    }
   ],
   "source": [
    "def fully_conn(x_tensor, num_outputs):\n",
    "    \"\"\"\n",
    "    Apply a fully connected layer to x_tensor using weight and bias\n",
    "    : x_tensor: A 2-D tensor where the first dimension is batch size.\n",
    "    : num_outputs: The number of output that the new tensor should be.\n",
    "    : return: A 2-D tensor where the second dimension is num_outputs.\n",
    "    \"\"\"\n",
    "    # TODO: Implement Function\n",
    "    return tf.contrib.layers.fully_connected(x_tensor,num_outputs)\n",
    "\n",
    "\n",
    "\"\"\"\n",
    "DON'T MODIFY ANYTHING IN THIS CELL THAT IS BELOW THIS LINE\n",
    "\"\"\"\n",
    "tests.test_fully_conn(fully_conn)"
   ]
  },
  {
   "cell_type": "markdown",
   "metadata": {
    "deletable": true,
    "editable": true
   },
   "source": [
    "### Output Layer\n",
    "Implement the `output` function to apply a fully connected layer to `x_tensor` with the shape (*Batch Size*, *num_outputs*). Shortcut option: you can use classes from the [TensorFlow Layers](https://www.tensorflow.org/api_docs/python/tf/layers) or [TensorFlow Layers (contrib)](https://www.tensorflow.org/api_guides/python/contrib.layers) packages for this layer. For more of a challenge, only use other TensorFlow packages.\n",
    "\n",
    "**Note:** Activation, softmax, or cross entropy should **not** be applied to this."
   ]
  },
  {
   "cell_type": "code",
   "execution_count": 29,
   "metadata": {
    "collapsed": false,
    "deletable": true,
    "editable": true
   },
   "outputs": [
    {
     "name": "stdout",
     "output_type": "stream",
     "text": [
      "Tests Passed\n"
     ]
    }
   ],
   "source": [
    "def output(x_tensor, num_outputs):\n",
    "    \"\"\"\n",
    "    Apply a output layer to x_tensor using weight and bias\n",
    "    : x_tensor: A 2-D tensor where the first dimension is batch size.\n",
    "    : num_outputs: The number of output that the new tensor should be.\n",
    "    : return: A 2-D tensor where the second dimension is num_outputs.\n",
    "    \"\"\"\n",
    "    # TODO: Implement Function\n",
    "    return tf.contrib.layers.fully_connected(x_tensor,num_outputs,activation_fn=None)\n",
    "\n",
    "\n",
    "\"\"\"\n",
    "DON'T MODIFY ANYTHING IN THIS CELL THAT IS BELOW THIS LINE\n",
    "\"\"\"\n",
    "tests.test_output(output)"
   ]
  },
  {
   "cell_type": "markdown",
   "metadata": {
    "deletable": true,
    "editable": true
   },
   "source": [
    "### Create Convolutional Model\n",
    "Implement the function `conv_net` to create a convolutional neural network model. The function takes in a batch of images, `x`, and outputs logits.  Use the layers you created above to create this model:\n",
    "\n",
    "* Apply 1, 2, or 3 Convolution and Max Pool layers\n",
    "* Apply a Flatten Layer\n",
    "* Apply 1, 2, or 3 Fully Connected Layers\n",
    "* Apply an Output Layer\n",
    "* Return the output\n",
    "* Apply [TensorFlow's Dropout](https://www.tensorflow.org/api_docs/python/tf/nn/dropout) to one or more layers in the model using `keep_prob`. "
   ]
  },
  {
   "cell_type": "code",
   "execution_count": 35,
   "metadata": {
    "collapsed": false,
    "deletable": true,
    "editable": true
   },
   "outputs": [
    {
     "name": "stdout",
     "output_type": "stream",
     "text": [
      "Neural Network Built!\n"
     ]
    }
   ],
   "source": [
    "def conv_net(x, keep_prob):\n",
    "    \"\"\"\n",
    "    Create a convolutional neural network model\n",
    "    : x: Placeholder tensor that holds image data.\n",
    "    : keep_prob: Placeholder tensor that hold dropout keep probability.\n",
    "    : return: Tensor that represents logits\n",
    "    \"\"\"\n",
    "    # TODO: Apply 1, 2, or 3 Convolution and Max Pool layers\n",
    "    #    Play around with different number of outputs, kernel size and stride\n",
    "    # Function Definition from Above:\n",
    "    #    conv2d_maxpool(x_tensor, conv_num_outputs, conv_ksize, conv_strides, pool_ksize, pool_strides)\n",
    "    #x_tensor = tf.placeholder(tf.float32,(None,32,32,5))\n",
    "    \n",
    "    conv_net = conv2d_maxpool(x, 128, (5,5), (2,2), (3,3), (2,2))\n",
    "    conv_net = tf.nn.dropout(conv_net,keep_prob)\n",
    "    conv_net = conv2d_maxpool(conv_net, 256, (3,3), (1,1), (2,2), (2,2))\n",
    "    # TODO: Apply a Flatten Layer\n",
    "    # Function Definition from Above:\n",
    "    #   flatten(x_tensor)\n",
    "    \n",
    "    conv_net = flatten(conv_net)\n",
    "\n",
    "\n",
    "    # TODO: Apply 1, 2, or 3 Fully Connected Layers\n",
    "    #    Play around with different number of outputs\n",
    "    # Function Definition from Above:\n",
    "    #   fully_conn(x_tensor, num_outputs)\n",
    "    \n",
    "    conv_net = fully_conn(conv_net,400)\n",
    "    conv_net = tf.nn.dropout(conv_net,keep_prob)\n",
    "    conv_net = fully_conn(conv_net,100)\n",
    "\n",
    "    \n",
    "    # TODO: Apply an Output Layer\n",
    "    #    Set this to the number of classes\n",
    "    # Function Definition from Above:\n",
    "    #   output(x_tensor, num_outputs)\n",
    "    conv_net = output(conv_net,10)\n",
    "\n",
    "    \n",
    "    # TODO: return output\n",
    "    return conv_net\n",
    "\n",
    "\n",
    "\"\"\"\n",
    "DON'T MODIFY ANYTHING IN THIS CELL THAT IS BELOW THIS LINE\n",
    "\"\"\"\n",
    "\n",
    "##############################\n",
    "## Build the Neural Network ##\n",
    "##############################\n",
    "\n",
    "# Remove previous weights, bias, inputs, etc..\n",
    "tf.reset_default_graph()\n",
    "\n",
    "# Inputs\n",
    "x = neural_net_image_input((32, 32, 3))\n",
    "y = neural_net_label_input(10)\n",
    "keep_prob = neural_net_keep_prob_input()\n",
    "\n",
    "# Model\n",
    "logits = conv_net(x, keep_prob)\n",
    "\n",
    "# Name logits Tensor, so that is can be loaded from disk after training\n",
    "logits = tf.identity(logits, name='logits')\n",
    "\n",
    "# Loss and Optimizer\n",
    "cost = tf.reduce_mean(tf.nn.softmax_cross_entropy_with_logits(logits=logits, labels=y))\n",
    "optimizer = tf.train.AdamOptimizer().minimize(cost)\n",
    "\n",
    "# Accuracy\n",
    "correct_pred = tf.equal(tf.argmax(logits, 1), tf.argmax(y, 1))\n",
    "accuracy = tf.reduce_mean(tf.cast(correct_pred, tf.float32), name='accuracy')\n",
    "\n",
    "tests.test_conv_net(conv_net)"
   ]
  },
  {
   "cell_type": "markdown",
   "metadata": {
    "deletable": true,
    "editable": true
   },
   "source": [
    "## Train the Neural Network\n",
    "### Single Optimization\n",
    "Implement the function `train_neural_network` to do a single optimization.  The optimization should use `optimizer` to optimize in `session` with a `feed_dict` of the following:\n",
    "* `x` for image input\n",
    "* `y` for labels\n",
    "* `keep_prob` for keep probability for dropout\n",
    "\n",
    "This function will be called for each batch, so `tf.global_variables_initializer()` has already been called.\n",
    "\n",
    "Note: Nothing needs to be returned. This function is only optimizing the neural network."
   ]
  },
  {
   "cell_type": "code",
   "execution_count": 31,
   "metadata": {
    "collapsed": false,
    "deletable": true,
    "editable": true
   },
   "outputs": [
    {
     "name": "stdout",
     "output_type": "stream",
     "text": [
      "Tests Passed\n"
     ]
    }
   ],
   "source": [
    "def train_neural_network(session, optimizer, keep_probability, feature_batch, label_batch):\n",
    "    \"\"\"\n",
    "    Optimize the session on a batch of images and labels\n",
    "    : session: Current TensorFlow session\n",
    "    : optimizer: TensorFlow optimizer function\n",
    "    : keep_probability: keep probability\n",
    "    : feature_batch: Batch of Numpy image data\n",
    "    : label_batch: Batch of Numpy label data\n",
    "    \"\"\"\n",
    "    # TODO: Implement Function\n",
    "    #print('train_neural_network')\n",
    "    session.run(optimizer,feed_dict={x : feature_batch,y : label_batch,keep_prob : keep_probability})\n",
    "    \n",
    "\n",
    "\n",
    "\"\"\"\n",
    "DON'T MODIFY ANYTHING IN THIS CELL THAT IS BELOW THIS LINE\n",
    "\"\"\"\n",
    "tests.test_train_nn(train_neural_network)"
   ]
  },
  {
   "cell_type": "markdown",
   "metadata": {
    "deletable": true,
    "editable": true
   },
   "source": [
    "### Show Stats\n",
    "Implement the function `print_stats` to print loss and validation accuracy.  Use the global variables `valid_features` and `valid_labels` to calculate validation accuracy.  Use a keep probability of `1.0` to calculate the loss and validation accuracy."
   ]
  },
  {
   "cell_type": "code",
   "execution_count": 32,
   "metadata": {
    "collapsed": true,
    "deletable": true,
    "editable": true
   },
   "outputs": [],
   "source": [
    "def print_stats(session, feature_batch, label_batch, cost, accuracy):\n",
    "    \"\"\"\n",
    "    Print information about loss and validation accuracy\n",
    "    : session: Current TensorFlow session\n",
    "    : feature_batch: Batch of Numpy image data\n",
    "    : label_batch: Batch of Numpy label data\n",
    "    : cost: TensorFlow cost function\n",
    "    : accuracy: TensorFlow accuracy function\n",
    "    \"\"\"\n",
    "    # TODO: Implement Function\n",
    "    loss = session.run(cost,feed_dict={x:feature_batch,y:label_batch,keep_prob:1.0})\n",
    "    validation_accuracy = session.run(accuracy,feed_dict={x:valid_features,y:valid_labels,keep_prob:1.0})\n",
    "    print('Cost: {:<8.3} Valid Accuracy: {:<5.3}'.format(loss,validation_accuracy))"
   ]
  },
  {
   "cell_type": "markdown",
   "metadata": {
    "deletable": true,
    "editable": true
   },
   "source": [
    "### Hyperparameters\n",
    "Tune the following parameters:\n",
    "* Set `epochs` to the number of iterations until the network stops learning or start overfitting\n",
    "* Set `batch_size` to the highest number that your machine has memory for.  Most people set them to common sizes of memory:\n",
    " * 64\n",
    " * 128\n",
    " * 256\n",
    " * ...\n",
    "* Set `keep_probability` to the probability of keeping a node using dropout"
   ]
  },
  {
   "cell_type": "code",
   "execution_count": 37,
   "metadata": {
    "collapsed": true,
    "deletable": true,
    "editable": true
   },
   "outputs": [],
   "source": [
    "# TODO: Tune Parameters\n",
    "epochs = 100\n",
    "batch_size = 256\n",
    "keep_probability = 0.6"
   ]
  },
  {
   "cell_type": "markdown",
   "metadata": {
    "deletable": true,
    "editable": true
   },
   "source": [
    "### Train on a Single CIFAR-10 Batch\n",
    "Instead of training the neural network on all the CIFAR-10 batches of data, let's use a single batch. This should save time while you iterate on the model to get a better accuracy.  Once the final validation accuracy is 50% or greater, run the model on all the data in the next section."
   ]
  },
  {
   "cell_type": "code",
   "execution_count": 38,
   "metadata": {
    "collapsed": false,
    "deletable": true,
    "editable": true
   },
   "outputs": [
    {
     "name": "stdout",
     "output_type": "stream",
     "text": [
      "Checking the Training on a Single Batch...\n",
      "Epoch  1, CIFAR-10 Batch 1:  Cost: 2.15     Valid Accuracy: 0.243\n",
      "Epoch  2, CIFAR-10 Batch 1:  Cost: 2.02     Valid Accuracy: 0.358\n",
      "Epoch  3, CIFAR-10 Batch 1:  Cost: 1.79     Valid Accuracy: 0.401\n",
      "Epoch  4, CIFAR-10 Batch 1:  Cost: 1.65     Valid Accuracy: 0.44 \n",
      "Epoch  5, CIFAR-10 Batch 1:  Cost: 1.5      Valid Accuracy: 0.466\n",
      "Epoch  6, CIFAR-10 Batch 1:  Cost: 1.38     Valid Accuracy: 0.477\n",
      "Epoch  7, CIFAR-10 Batch 1:  Cost: 1.21     Valid Accuracy: 0.499\n",
      "Epoch  8, CIFAR-10 Batch 1:  Cost: 1.06     Valid Accuracy: 0.514\n",
      "Epoch  9, CIFAR-10 Batch 1:  Cost: 0.972    Valid Accuracy: 0.525\n",
      "Epoch 10, CIFAR-10 Batch 1:  Cost: 0.917    Valid Accuracy: 0.529\n",
      "Epoch 11, CIFAR-10 Batch 1:  Cost: 0.781    Valid Accuracy: 0.538\n",
      "Epoch 12, CIFAR-10 Batch 1:  Cost: 0.743    Valid Accuracy: 0.544\n",
      "Epoch 13, CIFAR-10 Batch 1:  Cost: 0.641    Valid Accuracy: 0.554\n",
      "Epoch 14, CIFAR-10 Batch 1:  Cost: 0.564    Valid Accuracy: 0.571\n",
      "Epoch 15, CIFAR-10 Batch 1:  Cost: 0.539    Valid Accuracy: 0.557\n",
      "Epoch 16, CIFAR-10 Batch 1:  Cost: 0.456    Valid Accuracy: 0.574\n",
      "Epoch 17, CIFAR-10 Batch 1:  Cost: 0.409    Valid Accuracy: 0.579\n",
      "Epoch 18, CIFAR-10 Batch 1:  Cost: 0.352    Valid Accuracy: 0.587\n",
      "Epoch 19, CIFAR-10 Batch 1:  Cost: 0.338    Valid Accuracy: 0.582\n",
      "Epoch 20, CIFAR-10 Batch 1:  Cost: 0.313    Valid Accuracy: 0.57 \n",
      "Epoch 21, CIFAR-10 Batch 1:  Cost: 0.233    Valid Accuracy: 0.596\n",
      "Epoch 22, CIFAR-10 Batch 1:  Cost: 0.201    Valid Accuracy: 0.597\n",
      "Epoch 23, CIFAR-10 Batch 1:  Cost: 0.166    Valid Accuracy: 0.597\n",
      "Epoch 24, CIFAR-10 Batch 1:  Cost: 0.137    Valid Accuracy: 0.595\n",
      "Epoch 25, CIFAR-10 Batch 1:  Cost: 0.102    Valid Accuracy: 0.603\n",
      "Epoch 26, CIFAR-10 Batch 1:  Cost: 0.1      Valid Accuracy: 0.606\n",
      "Epoch 27, CIFAR-10 Batch 1:  Cost: 0.0834   Valid Accuracy: 0.6  \n",
      "Epoch 28, CIFAR-10 Batch 1:  Cost: 0.0654   Valid Accuracy: 0.6  \n",
      "Epoch 29, CIFAR-10 Batch 1:  Cost: 0.0496   Valid Accuracy: 0.599\n",
      "Epoch 30, CIFAR-10 Batch 1:  Cost: 0.0508   Valid Accuracy: 0.609\n",
      "Epoch 31, CIFAR-10 Batch 1:  Cost: 0.039    Valid Accuracy: 0.604\n",
      "Epoch 32, CIFAR-10 Batch 1:  Cost: 0.0453   Valid Accuracy: 0.615\n",
      "Epoch 33, CIFAR-10 Batch 1:  Cost: 0.0293   Valid Accuracy: 0.624\n",
      "Epoch 34, CIFAR-10 Batch 1:  Cost: 0.0263   Valid Accuracy: 0.621\n",
      "Epoch 35, CIFAR-10 Batch 1:  Cost: 0.0275   Valid Accuracy: 0.62 \n",
      "Epoch 36, CIFAR-10 Batch 1:  Cost: 0.0226   Valid Accuracy: 0.611\n",
      "Epoch 37, CIFAR-10 Batch 1:  Cost: 0.0279   Valid Accuracy: 0.606\n",
      "Epoch 38, CIFAR-10 Batch 1:  Cost: 0.0256   Valid Accuracy: 0.629\n",
      "Epoch 39, CIFAR-10 Batch 1:  Cost: 0.0232   Valid Accuracy: 0.623\n",
      "Epoch 40, CIFAR-10 Batch 1:  Cost: 0.0145   Valid Accuracy: 0.627\n",
      "Epoch 41, CIFAR-10 Batch 1:  Cost: 0.0126   Valid Accuracy: 0.624\n",
      "Epoch 42, CIFAR-10 Batch 1:  Cost: 0.0149   Valid Accuracy: 0.614\n",
      "Epoch 43, CIFAR-10 Batch 1:  Cost: 0.0111   Valid Accuracy: 0.619\n",
      "Epoch 44, CIFAR-10 Batch 1:  Cost: 0.00896  Valid Accuracy: 0.614\n",
      "Epoch 45, CIFAR-10 Batch 1:  Cost: 0.00787  Valid Accuracy: 0.613\n",
      "Epoch 46, CIFAR-10 Batch 1:  Cost: 0.00442  Valid Accuracy: 0.607\n",
      "Epoch 47, CIFAR-10 Batch 1:  Cost: 0.00474  Valid Accuracy: 0.616\n",
      "Epoch 48, CIFAR-10 Batch 1:  Cost: 0.00564  Valid Accuracy: 0.611\n",
      "Epoch 49, CIFAR-10 Batch 1:  Cost: 0.00487  Valid Accuracy: 0.623\n",
      "Epoch 50, CIFAR-10 Batch 1:  Cost: 0.00398  Valid Accuracy: 0.618\n",
      "Epoch 51, CIFAR-10 Batch 1:  Cost: 0.00486  Valid Accuracy: 0.613\n",
      "Epoch 52, CIFAR-10 Batch 1:  Cost: 0.00622  Valid Accuracy: 0.613\n",
      "Epoch 53, CIFAR-10 Batch 1:  Cost: 0.00957  Valid Accuracy: 0.611\n",
      "Epoch 54, CIFAR-10 Batch 1:  Cost: 0.0106   Valid Accuracy: 0.614\n",
      "Epoch 55, CIFAR-10 Batch 1:  Cost: 0.00452  Valid Accuracy: 0.621\n",
      "Epoch 56, CIFAR-10 Batch 1:  Cost: 0.0117   Valid Accuracy: 0.617\n",
      "Epoch 57, CIFAR-10 Batch 1:  Cost: 0.00539  Valid Accuracy: 0.626\n",
      "Epoch 58, CIFAR-10 Batch 1:  Cost: 0.00335  Valid Accuracy: 0.626\n",
      "Epoch 59, CIFAR-10 Batch 1:  Cost: 0.00196  Valid Accuracy: 0.615\n",
      "Epoch 60, CIFAR-10 Batch 1:  Cost: 0.00964  Valid Accuracy: 0.609\n",
      "Epoch 61, CIFAR-10 Batch 1:  Cost: 0.00388  Valid Accuracy: 0.609\n",
      "Epoch 62, CIFAR-10 Batch 1:  Cost: 0.0021   Valid Accuracy: 0.615\n",
      "Epoch 63, CIFAR-10 Batch 1:  Cost: 0.00216  Valid Accuracy: 0.615\n",
      "Epoch 64, CIFAR-10 Batch 1:  Cost: 0.00101  Valid Accuracy: 0.611\n",
      "Epoch 65, CIFAR-10 Batch 1:  Cost: 0.00148  Valid Accuracy: 0.611\n",
      "Epoch 66, CIFAR-10 Batch 1:  Cost: 0.00423  Valid Accuracy: 0.614\n",
      "Epoch 67, CIFAR-10 Batch 1:  Cost: 0.000855 Valid Accuracy: 0.615\n",
      "Epoch 68, CIFAR-10 Batch 1:  Cost: 0.00854  Valid Accuracy: 0.601\n",
      "Epoch 69, CIFAR-10 Batch 1:  Cost: 0.00131  Valid Accuracy: 0.61 \n",
      "Epoch 70, CIFAR-10 Batch 1:  Cost: 0.00231  Valid Accuracy: 0.616\n",
      "Epoch 71, CIFAR-10 Batch 1:  Cost: 0.00102  Valid Accuracy: 0.6  \n",
      "Epoch 72, CIFAR-10 Batch 1:  Cost: 0.00291  Valid Accuracy: 0.598\n",
      "Epoch 73, CIFAR-10 Batch 1:  Cost: 0.00188  Valid Accuracy: 0.594\n",
      "Epoch 74, CIFAR-10 Batch 1:  Cost: 0.00128  Valid Accuracy: 0.62 \n",
      "Epoch 75, CIFAR-10 Batch 1:  Cost: 0.000968 Valid Accuracy: 0.619\n",
      "Epoch 76, CIFAR-10 Batch 1:  Cost: 0.00197  Valid Accuracy: 0.618\n",
      "Epoch 77, CIFAR-10 Batch 1:  Cost: 0.000682 Valid Accuracy: 0.621\n",
      "Epoch 78, CIFAR-10 Batch 1:  Cost: 0.000561 Valid Accuracy: 0.622\n",
      "Epoch 79, CIFAR-10 Batch 1:  Cost: 0.000521 Valid Accuracy: 0.626\n",
      "Epoch 80, CIFAR-10 Batch 1:  Cost: 0.0012   Valid Accuracy: 0.626\n",
      "Epoch 81, CIFAR-10 Batch 1:  Cost: 0.000611 Valid Accuracy: 0.625\n",
      "Epoch 82, CIFAR-10 Batch 1:  Cost: 0.000529 Valid Accuracy: 0.616\n",
      "Epoch 83, CIFAR-10 Batch 1:  Cost: 0.000457 Valid Accuracy: 0.624\n",
      "Epoch 84, CIFAR-10 Batch 1:  Cost: 0.000623 Valid Accuracy: 0.629\n",
      "Epoch 85, CIFAR-10 Batch 1:  Cost: 0.000371 Valid Accuracy: 0.624\n",
      "Epoch 86, CIFAR-10 Batch 1:  Cost: 0.000535 Valid Accuracy: 0.618\n",
      "Epoch 87, CIFAR-10 Batch 1:  Cost: 0.000227 Valid Accuracy: 0.606\n",
      "Epoch 88, CIFAR-10 Batch 1:  Cost: 0.000272 Valid Accuracy: 0.624\n",
      "Epoch 89, CIFAR-10 Batch 1:  Cost: 0.0003   Valid Accuracy: 0.624\n",
      "Epoch 90, CIFAR-10 Batch 1:  Cost: 0.000462 Valid Accuracy: 0.626\n",
      "Epoch 91, CIFAR-10 Batch 1:  Cost: 0.000264 Valid Accuracy: 0.619\n",
      "Epoch 92, CIFAR-10 Batch 1:  Cost: 0.000174 Valid Accuracy: 0.626\n",
      "Epoch 93, CIFAR-10 Batch 1:  Cost: 0.00021  Valid Accuracy: 0.623\n",
      "Epoch 94, CIFAR-10 Batch 1:  Cost: 0.0003   Valid Accuracy: 0.611\n",
      "Epoch 95, CIFAR-10 Batch 1:  Cost: 0.000227 Valid Accuracy: 0.621\n",
      "Epoch 96, CIFAR-10 Batch 1:  Cost: 6.19e-05 Valid Accuracy: 0.62 \n",
      "Epoch 97, CIFAR-10 Batch 1:  Cost: 0.000269 Valid Accuracy: 0.622\n",
      "Epoch 98, CIFAR-10 Batch 1:  Cost: 0.000905 Valid Accuracy: 0.617\n",
      "Epoch 99, CIFAR-10 Batch 1:  Cost: 0.000531 Valid Accuracy: 0.618\n",
      "Epoch 100, CIFAR-10 Batch 1:  Cost: 0.000103 Valid Accuracy: 0.623\n"
     ]
    }
   ],
   "source": [
    "\"\"\"\n",
    "DON'T MODIFY ANYTHING IN THIS CELL\n",
    "\"\"\"\n",
    "print('Checking the Training on a Single Batch...')\n",
    "with tf.Session() as sess:\n",
    "    # Initializing the variables\n",
    "    sess.run(tf.global_variables_initializer())\n",
    "    \n",
    "    # Training cycle\n",
    "    for epoch in range(epochs):\n",
    "        batch_i = 1\n",
    "        for batch_features, batch_labels in helper.load_preprocess_training_batch(batch_i, batch_size):\n",
    "            #print(batch_features)\n",
    "            #print(batch_labels)\n",
    "            train_neural_network(sess, optimizer, keep_probability, batch_features, batch_labels)\n",
    "        print('Epoch {:>2}, CIFAR-10 Batch {}:  '.format(epoch + 1, batch_i), end='')\n",
    "        print_stats(sess, batch_features, batch_labels, cost, accuracy)"
   ]
  },
  {
   "cell_type": "markdown",
   "metadata": {
    "deletable": true,
    "editable": true
   },
   "source": [
    "### Fully Train the Model\n",
    "Now that you got a good accuracy with a single CIFAR-10 batch, try it with all five batches."
   ]
  },
  {
   "cell_type": "code",
   "execution_count": 39,
   "metadata": {
    "collapsed": false,
    "deletable": true,
    "editable": true
   },
   "outputs": [
    {
     "name": "stdout",
     "output_type": "stream",
     "text": [
      "Training...\n",
      "Epoch  1, CIFAR-10 Batch 1:  Cost: 2.14     Valid Accuracy: 0.255\n",
      "Epoch  1, CIFAR-10 Batch 2:  Cost: 1.91     Valid Accuracy: 0.327\n",
      "Epoch  1, CIFAR-10 Batch 3:  Cost: 1.65     Valid Accuracy: 0.342\n",
      "Epoch  1, CIFAR-10 Batch 4:  Cost: 1.66     Valid Accuracy: 0.426\n",
      "Epoch  1, CIFAR-10 Batch 5:  Cost: 1.56     Valid Accuracy: 0.443\n",
      "Epoch  2, CIFAR-10 Batch 1:  Cost: 1.61     Valid Accuracy: 0.46 \n",
      "Epoch  2, CIFAR-10 Batch 2:  Cost: 1.49     Valid Accuracy: 0.456\n",
      "Epoch  2, CIFAR-10 Batch 3:  Cost: 1.11     Valid Accuracy: 0.47 \n",
      "Epoch  2, CIFAR-10 Batch 4:  Cost: 1.35     Valid Accuracy: 0.496\n",
      "Epoch  2, CIFAR-10 Batch 5:  Cost: 1.35     Valid Accuracy: 0.502\n",
      "Epoch  3, CIFAR-10 Batch 1:  Cost: 1.35     Valid Accuracy: 0.533\n",
      "Epoch  3, CIFAR-10 Batch 2:  Cost: 1.22     Valid Accuracy: 0.517\n",
      "Epoch  3, CIFAR-10 Batch 3:  Cost: 0.99     Valid Accuracy: 0.545\n",
      "Epoch  3, CIFAR-10 Batch 4:  Cost: 1.2      Valid Accuracy: 0.559\n",
      "Epoch  3, CIFAR-10 Batch 5:  Cost: 1.11     Valid Accuracy: 0.558\n",
      "Epoch  4, CIFAR-10 Batch 1:  Cost: 1.13     Valid Accuracy: 0.56 \n",
      "Epoch  4, CIFAR-10 Batch 2:  Cost: 1.05     Valid Accuracy: 0.57 \n",
      "Epoch  4, CIFAR-10 Batch 3:  Cost: 0.871    Valid Accuracy: 0.574\n",
      "Epoch  4, CIFAR-10 Batch 4:  Cost: 1.03     Valid Accuracy: 0.573\n",
      "Epoch  4, CIFAR-10 Batch 5:  Cost: 0.95     Valid Accuracy: 0.582\n",
      "Epoch  5, CIFAR-10 Batch 1:  Cost: 0.925    Valid Accuracy: 0.606\n",
      "Epoch  5, CIFAR-10 Batch 2:  Cost: 0.904    Valid Accuracy: 0.608\n",
      "Epoch  5, CIFAR-10 Batch 3:  Cost: 0.725    Valid Accuracy: 0.601\n",
      "Epoch  5, CIFAR-10 Batch 4:  Cost: 0.879    Valid Accuracy: 0.612\n",
      "Epoch  5, CIFAR-10 Batch 5:  Cost: 0.834    Valid Accuracy: 0.62 \n",
      "Epoch  6, CIFAR-10 Batch 1:  Cost: 0.781    Valid Accuracy: 0.628\n",
      "Epoch  6, CIFAR-10 Batch 2:  Cost: 0.804    Valid Accuracy: 0.627\n",
      "Epoch  6, CIFAR-10 Batch 3:  Cost: 0.595    Valid Accuracy: 0.629\n",
      "Epoch  6, CIFAR-10 Batch 4:  Cost: 0.821    Valid Accuracy: 0.639\n",
      "Epoch  6, CIFAR-10 Batch 5:  Cost: 0.7      Valid Accuracy: 0.645\n",
      "Epoch  7, CIFAR-10 Batch 1:  Cost: 0.701    Valid Accuracy: 0.64 \n",
      "Epoch  7, CIFAR-10 Batch 2:  Cost: 0.644    Valid Accuracy: 0.644\n",
      "Epoch  7, CIFAR-10 Batch 3:  Cost: 0.517    Valid Accuracy: 0.652\n",
      "Epoch  7, CIFAR-10 Batch 4:  Cost: 0.646    Valid Accuracy: 0.651\n",
      "Epoch  7, CIFAR-10 Batch 5:  Cost: 0.589    Valid Accuracy: 0.65 \n",
      "Epoch  8, CIFAR-10 Batch 1:  Cost: 0.582    Valid Accuracy: 0.674\n",
      "Epoch  8, CIFAR-10 Batch 2:  Cost: 0.563    Valid Accuracy: 0.645\n",
      "Epoch  8, CIFAR-10 Batch 3:  Cost: 0.397    Valid Accuracy: 0.668\n",
      "Epoch  8, CIFAR-10 Batch 4:  Cost: 0.586    Valid Accuracy: 0.667\n",
      "Epoch  8, CIFAR-10 Batch 5:  Cost: 0.506    Valid Accuracy: 0.665\n",
      "Epoch  9, CIFAR-10 Batch 1:  Cost: 0.514    Valid Accuracy: 0.674\n",
      "Epoch  9, CIFAR-10 Batch 2:  Cost: 0.487    Valid Accuracy: 0.674\n",
      "Epoch  9, CIFAR-10 Batch 3:  Cost: 0.322    Valid Accuracy: 0.68 \n",
      "Epoch  9, CIFAR-10 Batch 4:  Cost: 0.503    Valid Accuracy: 0.682\n",
      "Epoch  9, CIFAR-10 Batch 5:  Cost: 0.45     Valid Accuracy: 0.685\n",
      "Epoch 10, CIFAR-10 Batch 1:  Cost: 0.493    Valid Accuracy: 0.678\n",
      "Epoch 10, CIFAR-10 Batch 2:  Cost: 0.439    Valid Accuracy: 0.676\n",
      "Epoch 10, CIFAR-10 Batch 3:  Cost: 0.296    Valid Accuracy: 0.691\n",
      "Epoch 10, CIFAR-10 Batch 4:  Cost: 0.406    Valid Accuracy: 0.688\n",
      "Epoch 10, CIFAR-10 Batch 5:  Cost: 0.415    Valid Accuracy: 0.69 \n",
      "Epoch 11, CIFAR-10 Batch 1:  Cost: 0.423    Valid Accuracy: 0.687\n",
      "Epoch 11, CIFAR-10 Batch 2:  Cost: 0.423    Valid Accuracy: 0.686\n",
      "Epoch 11, CIFAR-10 Batch 3:  Cost: 0.272    Valid Accuracy: 0.698\n",
      "Epoch 11, CIFAR-10 Batch 4:  Cost: 0.384    Valid Accuracy: 0.698\n",
      "Epoch 11, CIFAR-10 Batch 5:  Cost: 0.357    Valid Accuracy: 0.695\n",
      "Epoch 12, CIFAR-10 Batch 1:  Cost: 0.375    Valid Accuracy: 0.702\n",
      "Epoch 12, CIFAR-10 Batch 2:  Cost: 0.36     Valid Accuracy: 0.704\n",
      "Epoch 12, CIFAR-10 Batch 3:  Cost: 0.217    Valid Accuracy: 0.709\n",
      "Epoch 12, CIFAR-10 Batch 4:  Cost: 0.312    Valid Accuracy: 0.713\n",
      "Epoch 12, CIFAR-10 Batch 5:  Cost: 0.283    Valid Accuracy: 0.699\n",
      "Epoch 13, CIFAR-10 Batch 1:  Cost: 0.282    Valid Accuracy: 0.711\n",
      "Epoch 13, CIFAR-10 Batch 2:  Cost: 0.329    Valid Accuracy: 0.695\n",
      "Epoch 13, CIFAR-10 Batch 3:  Cost: 0.199    Valid Accuracy: 0.709\n",
      "Epoch 13, CIFAR-10 Batch 4:  Cost: 0.292    Valid Accuracy: 0.712\n",
      "Epoch 13, CIFAR-10 Batch 5:  Cost: 0.278    Valid Accuracy: 0.706\n",
      "Epoch 14, CIFAR-10 Batch 1:  Cost: 0.275    Valid Accuracy: 0.706\n",
      "Epoch 14, CIFAR-10 Batch 2:  Cost: 0.243    Valid Accuracy: 0.707\n",
      "Epoch 14, CIFAR-10 Batch 3:  Cost: 0.14     Valid Accuracy: 0.71 \n",
      "Epoch 14, CIFAR-10 Batch 4:  Cost: 0.227    Valid Accuracy: 0.717\n",
      "Epoch 14, CIFAR-10 Batch 5:  Cost: 0.238    Valid Accuracy: 0.714\n",
      "Epoch 15, CIFAR-10 Batch 1:  Cost: 0.185    Valid Accuracy: 0.708\n",
      "Epoch 15, CIFAR-10 Batch 2:  Cost: 0.235    Valid Accuracy: 0.702\n",
      "Epoch 15, CIFAR-10 Batch 3:  Cost: 0.111    Valid Accuracy: 0.72 \n",
      "Epoch 15, CIFAR-10 Batch 4:  Cost: 0.212    Valid Accuracy: 0.723\n",
      "Epoch 15, CIFAR-10 Batch 5:  Cost: 0.202    Valid Accuracy: 0.714\n",
      "Epoch 16, CIFAR-10 Batch 1:  Cost: 0.21     Valid Accuracy: 0.721\n",
      "Epoch 16, CIFAR-10 Batch 2:  Cost: 0.204    Valid Accuracy: 0.705\n",
      "Epoch 16, CIFAR-10 Batch 3:  Cost: 0.117    Valid Accuracy: 0.718\n",
      "Epoch 16, CIFAR-10 Batch 4:  Cost: 0.191    Valid Accuracy: 0.715\n",
      "Epoch 16, CIFAR-10 Batch 5:  Cost: 0.221    Valid Accuracy: 0.709\n",
      "Epoch 17, CIFAR-10 Batch 1:  Cost: 0.193    Valid Accuracy: 0.72 \n",
      "Epoch 17, CIFAR-10 Batch 2:  Cost: 0.172    Valid Accuracy: 0.708\n",
      "Epoch 17, CIFAR-10 Batch 3:  Cost: 0.107    Valid Accuracy: 0.714\n",
      "Epoch 17, CIFAR-10 Batch 4:  Cost: 0.168    Valid Accuracy: 0.723\n",
      "Epoch 17, CIFAR-10 Batch 5:  Cost: 0.169    Valid Accuracy: 0.716\n",
      "Epoch 18, CIFAR-10 Batch 1:  Cost: 0.21     Valid Accuracy: 0.724\n",
      "Epoch 18, CIFAR-10 Batch 2:  Cost: 0.152    Valid Accuracy: 0.722\n",
      "Epoch 18, CIFAR-10 Batch 3:  Cost: 0.0984   Valid Accuracy: 0.72 \n",
      "Epoch 18, CIFAR-10 Batch 4:  Cost: 0.131    Valid Accuracy: 0.721\n",
      "Epoch 18, CIFAR-10 Batch 5:  Cost: 0.145    Valid Accuracy: 0.718\n",
      "Epoch 19, CIFAR-10 Batch 1:  Cost: 0.157    Valid Accuracy: 0.717\n",
      "Epoch 19, CIFAR-10 Batch 2:  Cost: 0.134    Valid Accuracy: 0.717\n",
      "Epoch 19, CIFAR-10 Batch 3:  Cost: 0.103    Valid Accuracy: 0.722\n",
      "Epoch 19, CIFAR-10 Batch 4:  Cost: 0.0982   Valid Accuracy: 0.732\n",
      "Epoch 19, CIFAR-10 Batch 5:  Cost: 0.126    Valid Accuracy: 0.719\n",
      "Epoch 20, CIFAR-10 Batch 1:  Cost: 0.13     Valid Accuracy: 0.721\n",
      "Epoch 20, CIFAR-10 Batch 2:  Cost: 0.129    Valid Accuracy: 0.715\n",
      "Epoch 20, CIFAR-10 Batch 3:  Cost: 0.111    Valid Accuracy: 0.714\n",
      "Epoch 20, CIFAR-10 Batch 4:  Cost: 0.114    Valid Accuracy: 0.727\n",
      "Epoch 20, CIFAR-10 Batch 5:  Cost: 0.101    Valid Accuracy: 0.728\n",
      "Epoch 21, CIFAR-10 Batch 1:  Cost: 0.112    Valid Accuracy: 0.735\n",
      "Epoch 21, CIFAR-10 Batch 2:  Cost: 0.135    Valid Accuracy: 0.721\n",
      "Epoch 21, CIFAR-10 Batch 3:  Cost: 0.0837   Valid Accuracy: 0.724\n",
      "Epoch 21, CIFAR-10 Batch 4:  Cost: 0.125    Valid Accuracy: 0.723\n",
      "Epoch 21, CIFAR-10 Batch 5:  Cost: 0.0824   Valid Accuracy: 0.737\n",
      "Epoch 22, CIFAR-10 Batch 1:  Cost: 0.102    Valid Accuracy: 0.732\n",
      "Epoch 22, CIFAR-10 Batch 2:  Cost: 0.097    Valid Accuracy: 0.722\n",
      "Epoch 22, CIFAR-10 Batch 3:  Cost: 0.0764   Valid Accuracy: 0.726\n",
      "Epoch 22, CIFAR-10 Batch 4:  Cost: 0.094    Valid Accuracy: 0.734\n",
      "Epoch 22, CIFAR-10 Batch 5:  Cost: 0.0613   Valid Accuracy: 0.731\n",
      "Epoch 23, CIFAR-10 Batch 1:  Cost: 0.0757   Valid Accuracy: 0.731\n",
      "Epoch 23, CIFAR-10 Batch 2:  Cost: 0.089    Valid Accuracy: 0.72 \n",
      "Epoch 23, CIFAR-10 Batch 3:  Cost: 0.0714   Valid Accuracy: 0.726\n",
      "Epoch 23, CIFAR-10 Batch 4:  Cost: 0.0669   Valid Accuracy: 0.727\n",
      "Epoch 23, CIFAR-10 Batch 5:  Cost: 0.0712   Valid Accuracy: 0.724\n",
      "Epoch 24, CIFAR-10 Batch 1:  Cost: 0.0865   Valid Accuracy: 0.73 \n",
      "Epoch 24, CIFAR-10 Batch 2:  Cost: 0.0977   Valid Accuracy: 0.722\n",
      "Epoch 24, CIFAR-10 Batch 3:  Cost: 0.0522   Valid Accuracy: 0.731\n",
      "Epoch 24, CIFAR-10 Batch 4:  Cost: 0.0685   Valid Accuracy: 0.726\n",
      "Epoch 24, CIFAR-10 Batch 5:  Cost: 0.0681   Valid Accuracy: 0.727\n",
      "Epoch 25, CIFAR-10 Batch 1:  Cost: 0.054    Valid Accuracy: 0.721\n",
      "Epoch 25, CIFAR-10 Batch 2:  Cost: 0.076    Valid Accuracy: 0.723\n",
      "Epoch 25, CIFAR-10 Batch 3:  Cost: 0.0523   Valid Accuracy: 0.728\n",
      "Epoch 25, CIFAR-10 Batch 4:  Cost: 0.0507   Valid Accuracy: 0.719\n",
      "Epoch 25, CIFAR-10 Batch 5:  Cost: 0.0606   Valid Accuracy: 0.717\n",
      "Epoch 26, CIFAR-10 Batch 1:  Cost: 0.057    Valid Accuracy: 0.73 \n",
      "Epoch 26, CIFAR-10 Batch 2:  Cost: 0.0662   Valid Accuracy: 0.721\n",
      "Epoch 26, CIFAR-10 Batch 3:  Cost: 0.0492   Valid Accuracy: 0.735\n",
      "Epoch 26, CIFAR-10 Batch 4:  Cost: 0.0524   Valid Accuracy: 0.731\n",
      "Epoch 26, CIFAR-10 Batch 5:  Cost: 0.0451   Valid Accuracy: 0.736\n",
      "Epoch 27, CIFAR-10 Batch 1:  Cost: 0.0621   Valid Accuracy: 0.726\n",
      "Epoch 27, CIFAR-10 Batch 2:  Cost: 0.0792   Valid Accuracy: 0.72 \n",
      "Epoch 27, CIFAR-10 Batch 3:  Cost: 0.0512   Valid Accuracy: 0.728\n",
      "Epoch 27, CIFAR-10 Batch 4:  Cost: 0.051    Valid Accuracy: 0.734\n",
      "Epoch 27, CIFAR-10 Batch 5:  Cost: 0.0454   Valid Accuracy: 0.731\n",
      "Epoch 28, CIFAR-10 Batch 1:  Cost: 0.0592   Valid Accuracy: 0.72 \n",
      "Epoch 28, CIFAR-10 Batch 2:  Cost: 0.0834   Valid Accuracy: 0.72 \n",
      "Epoch 28, CIFAR-10 Batch 3:  Cost: 0.0508   Valid Accuracy: 0.733\n",
      "Epoch 28, CIFAR-10 Batch 4:  Cost: 0.0427   Valid Accuracy: 0.731\n",
      "Epoch 28, CIFAR-10 Batch 5:  Cost: 0.0413   Valid Accuracy: 0.734\n",
      "Epoch 29, CIFAR-10 Batch 1:  Cost: 0.0564   Valid Accuracy: 0.732\n",
      "Epoch 29, CIFAR-10 Batch 2:  Cost: 0.0612   Valid Accuracy: 0.717\n",
      "Epoch 29, CIFAR-10 Batch 3:  Cost: 0.0379   Valid Accuracy: 0.736\n",
      "Epoch 29, CIFAR-10 Batch 4:  Cost: 0.0397   Valid Accuracy: 0.738\n",
      "Epoch 29, CIFAR-10 Batch 5:  Cost: 0.0338   Valid Accuracy: 0.729\n",
      "Epoch 30, CIFAR-10 Batch 1:  Cost: 0.0473   Valid Accuracy: 0.731\n",
      "Epoch 30, CIFAR-10 Batch 2:  Cost: 0.0753   Valid Accuracy: 0.713\n",
      "Epoch 30, CIFAR-10 Batch 3:  Cost: 0.0398   Valid Accuracy: 0.734\n",
      "Epoch 30, CIFAR-10 Batch 4:  Cost: 0.0411   Valid Accuracy: 0.731\n",
      "Epoch 30, CIFAR-10 Batch 5:  Cost: 0.0377   Valid Accuracy: 0.729\n",
      "Epoch 31, CIFAR-10 Batch 1:  Cost: 0.0393   Valid Accuracy: 0.726\n",
      "Epoch 31, CIFAR-10 Batch 2:  Cost: 0.054    Valid Accuracy: 0.705\n",
      "Epoch 31, CIFAR-10 Batch 3:  Cost: 0.0416   Valid Accuracy: 0.732\n",
      "Epoch 31, CIFAR-10 Batch 4:  Cost: 0.0419   Valid Accuracy: 0.728\n",
      "Epoch 31, CIFAR-10 Batch 5:  Cost: 0.0356   Valid Accuracy: 0.731\n",
      "Epoch 32, CIFAR-10 Batch 1:  Cost: 0.0264   Valid Accuracy: 0.734\n",
      "Epoch 32, CIFAR-10 Batch 2:  Cost: 0.0445   Valid Accuracy: 0.721\n",
      "Epoch 32, CIFAR-10 Batch 3:  Cost: 0.0383   Valid Accuracy: 0.726\n",
      "Epoch 32, CIFAR-10 Batch 4:  Cost: 0.0354   Valid Accuracy: 0.736\n",
      "Epoch 32, CIFAR-10 Batch 5:  Cost: 0.0325   Valid Accuracy: 0.715\n",
      "Epoch 33, CIFAR-10 Batch 1:  Cost: 0.0419   Valid Accuracy: 0.716\n",
      "Epoch 33, CIFAR-10 Batch 2:  Cost: 0.056    Valid Accuracy: 0.726\n",
      "Epoch 33, CIFAR-10 Batch 3:  Cost: 0.0282   Valid Accuracy: 0.734\n",
      "Epoch 33, CIFAR-10 Batch 4:  Cost: 0.0377   Valid Accuracy: 0.738\n",
      "Epoch 33, CIFAR-10 Batch 5:  Cost: 0.0278   Valid Accuracy: 0.722\n",
      "Epoch 34, CIFAR-10 Batch 1:  Cost: 0.0418   Valid Accuracy: 0.727\n",
      "Epoch 34, CIFAR-10 Batch 2:  Cost: 0.0463   Valid Accuracy: 0.72 \n",
      "Epoch 34, CIFAR-10 Batch 3:  Cost: 0.0362   Valid Accuracy: 0.727\n",
      "Epoch 34, CIFAR-10 Batch 4:  Cost: 0.045    Valid Accuracy: 0.729\n",
      "Epoch 34, CIFAR-10 Batch 5:  Cost: 0.0239   Valid Accuracy: 0.732\n",
      "Epoch 35, CIFAR-10 Batch 1:  Cost: 0.0328   Valid Accuracy: 0.731\n",
      "Epoch 35, CIFAR-10 Batch 2:  Cost: 0.0639   Valid Accuracy: 0.726\n",
      "Epoch 35, CIFAR-10 Batch 3:  Cost: 0.0224   Valid Accuracy: 0.728\n",
      "Epoch 35, CIFAR-10 Batch 4:  Cost: 0.0376   Valid Accuracy: 0.734\n",
      "Epoch 35, CIFAR-10 Batch 5:  Cost: 0.0302   Valid Accuracy: 0.71 \n",
      "Epoch 36, CIFAR-10 Batch 1:  Cost: 0.0289   Valid Accuracy: 0.734\n",
      "Epoch 36, CIFAR-10 Batch 2:  Cost: 0.0684   Valid Accuracy: 0.723\n",
      "Epoch 36, CIFAR-10 Batch 3:  Cost: 0.0252   Valid Accuracy: 0.724\n",
      "Epoch 36, CIFAR-10 Batch 4:  Cost: 0.0218   Valid Accuracy: 0.739\n",
      "Epoch 36, CIFAR-10 Batch 5:  Cost: 0.0181   Valid Accuracy: 0.729\n",
      "Epoch 37, CIFAR-10 Batch 1:  Cost: 0.0239   Valid Accuracy: 0.725\n",
      "Epoch 37, CIFAR-10 Batch 2:  Cost: 0.0506   Valid Accuracy: 0.712\n",
      "Epoch 37, CIFAR-10 Batch 3:  Cost: 0.03     Valid Accuracy: 0.737\n",
      "Epoch 37, CIFAR-10 Batch 4:  Cost: 0.0245   Valid Accuracy: 0.731\n",
      "Epoch 37, CIFAR-10 Batch 5:  Cost: 0.0228   Valid Accuracy: 0.725\n",
      "Epoch 38, CIFAR-10 Batch 1:  Cost: 0.033    Valid Accuracy: 0.734\n",
      "Epoch 38, CIFAR-10 Batch 2:  Cost: 0.0351   Valid Accuracy: 0.717\n",
      "Epoch 38, CIFAR-10 Batch 3:  Cost: 0.0276   Valid Accuracy: 0.724\n",
      "Epoch 38, CIFAR-10 Batch 4:  Cost: 0.0245   Valid Accuracy: 0.741\n",
      "Epoch 38, CIFAR-10 Batch 5:  Cost: 0.0155   Valid Accuracy: 0.727\n",
      "Epoch 39, CIFAR-10 Batch 1:  Cost: 0.0164   Valid Accuracy: 0.736\n",
      "Epoch 39, CIFAR-10 Batch 2:  Cost: 0.035    Valid Accuracy: 0.721\n",
      "Epoch 39, CIFAR-10 Batch 3:  Cost: 0.0156   Valid Accuracy: 0.735\n",
      "Epoch 39, CIFAR-10 Batch 4:  Cost: 0.0247   Valid Accuracy: 0.73 \n",
      "Epoch 39, CIFAR-10 Batch 5:  Cost: 0.0162   Valid Accuracy: 0.732\n",
      "Epoch 40, CIFAR-10 Batch 1:  Cost: 0.0186   Valid Accuracy: 0.734\n",
      "Epoch 40, CIFAR-10 Batch 2:  Cost: 0.0306   Valid Accuracy: 0.725\n",
      "Epoch 40, CIFAR-10 Batch 3:  Cost: 0.0194   Valid Accuracy: 0.735\n",
      "Epoch 40, CIFAR-10 Batch 4:  Cost: 0.0245   Valid Accuracy: 0.737\n",
      "Epoch 40, CIFAR-10 Batch 5:  Cost: 0.0175   Valid Accuracy: 0.727\n",
      "Epoch 41, CIFAR-10 Batch 1:  Cost: 0.0167   Valid Accuracy: 0.73 \n",
      "Epoch 41, CIFAR-10 Batch 2:  Cost: 0.0274   Valid Accuracy: 0.724\n",
      "Epoch 41, CIFAR-10 Batch 3:  Cost: 0.029    Valid Accuracy: 0.728\n",
      "Epoch 41, CIFAR-10 Batch 4:  Cost: 0.0192   Valid Accuracy: 0.739\n",
      "Epoch 41, CIFAR-10 Batch 5:  Cost: 0.0177   Valid Accuracy: 0.727\n",
      "Epoch 42, CIFAR-10 Batch 1:  Cost: 0.0201   Valid Accuracy: 0.734\n",
      "Epoch 42, CIFAR-10 Batch 2:  Cost: 0.0168   Valid Accuracy: 0.73 \n",
      "Epoch 42, CIFAR-10 Batch 3:  Cost: 0.0188   Valid Accuracy: 0.723\n",
      "Epoch 42, CIFAR-10 Batch 4:  Cost: 0.0163   Valid Accuracy: 0.734\n",
      "Epoch 42, CIFAR-10 Batch 5:  Cost: 0.0214   Valid Accuracy: 0.729\n",
      "Epoch 43, CIFAR-10 Batch 1:  Cost: 0.017    Valid Accuracy: 0.743\n",
      "Epoch 43, CIFAR-10 Batch 2:  Cost: 0.016    Valid Accuracy: 0.731\n",
      "Epoch 43, CIFAR-10 Batch 3:  Cost: 0.0152   Valid Accuracy: 0.727\n",
      "Epoch 43, CIFAR-10 Batch 4:  Cost: 0.0246   Valid Accuracy: 0.736\n",
      "Epoch 43, CIFAR-10 Batch 5:  Cost: 0.0162   Valid Accuracy: 0.741\n",
      "Epoch 44, CIFAR-10 Batch 1:  Cost: 0.0164   Valid Accuracy: 0.746\n",
      "Epoch 44, CIFAR-10 Batch 2:  Cost: 0.0178   Valid Accuracy: 0.735\n",
      "Epoch 44, CIFAR-10 Batch 3:  Cost: 0.0111   Valid Accuracy: 0.732\n",
      "Epoch 44, CIFAR-10 Batch 4:  Cost: 0.0185   Valid Accuracy: 0.739\n",
      "Epoch 44, CIFAR-10 Batch 5:  Cost: 0.019    Valid Accuracy: 0.741\n",
      "Epoch 45, CIFAR-10 Batch 1:  Cost: 0.0109   Valid Accuracy: 0.742\n",
      "Epoch 45, CIFAR-10 Batch 2:  Cost: 0.0179   Valid Accuracy: 0.728\n",
      "Epoch 45, CIFAR-10 Batch 3:  Cost: 0.0187   Valid Accuracy: 0.72 \n",
      "Epoch 45, CIFAR-10 Batch 4:  Cost: 0.0157   Valid Accuracy: 0.735\n",
      "Epoch 45, CIFAR-10 Batch 5:  Cost: 0.0131   Valid Accuracy: 0.738\n",
      "Epoch 46, CIFAR-10 Batch 1:  Cost: 0.0161   Valid Accuracy: 0.736\n",
      "Epoch 46, CIFAR-10 Batch 2:  Cost: 0.0238   Valid Accuracy: 0.735\n",
      "Epoch 46, CIFAR-10 Batch 3:  Cost: 0.0104   Valid Accuracy: 0.735\n",
      "Epoch 46, CIFAR-10 Batch 4:  Cost: 0.0142   Valid Accuracy: 0.739\n",
      "Epoch 46, CIFAR-10 Batch 5:  Cost: 0.031    Valid Accuracy: 0.722\n",
      "Epoch 47, CIFAR-10 Batch 1:  Cost: 0.0149   Valid Accuracy: 0.742\n",
      "Epoch 47, CIFAR-10 Batch 2:  Cost: 0.0169   Valid Accuracy: 0.725\n",
      "Epoch 47, CIFAR-10 Batch 3:  Cost: 0.0133   Valid Accuracy: 0.724\n",
      "Epoch 47, CIFAR-10 Batch 4:  Cost: 0.0113   Valid Accuracy: 0.745\n",
      "Epoch 47, CIFAR-10 Batch 5:  Cost: 0.00989  Valid Accuracy: 0.74 \n",
      "Epoch 48, CIFAR-10 Batch 1:  Cost: 0.0109   Valid Accuracy: 0.74 \n",
      "Epoch 48, CIFAR-10 Batch 2:  Cost: 0.0196   Valid Accuracy: 0.731\n",
      "Epoch 48, CIFAR-10 Batch 3:  Cost: 0.0129   Valid Accuracy: 0.737\n",
      "Epoch 48, CIFAR-10 Batch 4:  Cost: 0.0106   Valid Accuracy: 0.734\n",
      "Epoch 48, CIFAR-10 Batch 5:  Cost: 0.00718  Valid Accuracy: 0.735\n",
      "Epoch 49, CIFAR-10 Batch 1:  Cost: 0.0101   Valid Accuracy: 0.738\n",
      "Epoch 49, CIFAR-10 Batch 2:  Cost: 0.0193   Valid Accuracy: 0.732\n",
      "Epoch 49, CIFAR-10 Batch 3:  Cost: 0.00907  Valid Accuracy: 0.735\n",
      "Epoch 49, CIFAR-10 Batch 4:  Cost: 0.00937  Valid Accuracy: 0.743\n",
      "Epoch 49, CIFAR-10 Batch 5:  Cost: 0.00904  Valid Accuracy: 0.727\n",
      "Epoch 50, CIFAR-10 Batch 1:  Cost: 0.0122   Valid Accuracy: 0.738\n",
      "Epoch 50, CIFAR-10 Batch 2:  Cost: 0.0151   Valid Accuracy: 0.729\n",
      "Epoch 50, CIFAR-10 Batch 3:  Cost: 0.00726  Valid Accuracy: 0.743\n",
      "Epoch 50, CIFAR-10 Batch 4:  Cost: 0.00828  Valid Accuracy: 0.737\n",
      "Epoch 50, CIFAR-10 Batch 5:  Cost: 0.00775  Valid Accuracy: 0.739\n",
      "Epoch 51, CIFAR-10 Batch 1:  Cost: 0.00759  Valid Accuracy: 0.74 \n",
      "Epoch 51, CIFAR-10 Batch 2:  Cost: 0.0205   Valid Accuracy: 0.721\n",
      "Epoch 51, CIFAR-10 Batch 3:  Cost: 0.00752  Valid Accuracy: 0.732\n",
      "Epoch 51, CIFAR-10 Batch 4:  Cost: 0.00828  Valid Accuracy: 0.739\n",
      "Epoch 51, CIFAR-10 Batch 5:  Cost: 0.00603  Valid Accuracy: 0.738\n",
      "Epoch 52, CIFAR-10 Batch 1:  Cost: 0.012    Valid Accuracy: 0.735\n",
      "Epoch 52, CIFAR-10 Batch 2:  Cost: 0.0133   Valid Accuracy: 0.732\n",
      "Epoch 52, CIFAR-10 Batch 3:  Cost: 0.00732  Valid Accuracy: 0.735\n",
      "Epoch 52, CIFAR-10 Batch 4:  Cost: 0.00619  Valid Accuracy: 0.737\n",
      "Epoch 52, CIFAR-10 Batch 5:  Cost: 0.0087   Valid Accuracy: 0.736\n",
      "Epoch 53, CIFAR-10 Batch 1:  Cost: 0.0124   Valid Accuracy: 0.739\n",
      "Epoch 53, CIFAR-10 Batch 2:  Cost: 0.0164   Valid Accuracy: 0.727\n",
      "Epoch 53, CIFAR-10 Batch 3:  Cost: 0.00633  Valid Accuracy: 0.733\n",
      "Epoch 53, CIFAR-10 Batch 4:  Cost: 0.0124   Valid Accuracy: 0.734\n",
      "Epoch 53, CIFAR-10 Batch 5:  Cost: 0.00676  Valid Accuracy: 0.737\n",
      "Epoch 54, CIFAR-10 Batch 1:  Cost: 0.00787  Valid Accuracy: 0.736\n",
      "Epoch 54, CIFAR-10 Batch 2:  Cost: 0.0162   Valid Accuracy: 0.727\n",
      "Epoch 54, CIFAR-10 Batch 3:  Cost: 0.00685  Valid Accuracy: 0.742\n",
      "Epoch 54, CIFAR-10 Batch 4:  Cost: 0.017    Valid Accuracy: 0.742\n",
      "Epoch 54, CIFAR-10 Batch 5:  Cost: 0.00614  Valid Accuracy: 0.746\n",
      "Epoch 55, CIFAR-10 Batch 1:  Cost: 0.00974  Valid Accuracy: 0.739\n",
      "Epoch 55, CIFAR-10 Batch 2:  Cost: 0.0189   Valid Accuracy: 0.732\n",
      "Epoch 55, CIFAR-10 Batch 3:  Cost: 0.00903  Valid Accuracy: 0.737\n",
      "Epoch 55, CIFAR-10 Batch 4:  Cost: 0.0134   Valid Accuracy: 0.743\n",
      "Epoch 55, CIFAR-10 Batch 5:  Cost: 0.00503  Valid Accuracy: 0.731\n",
      "Epoch 56, CIFAR-10 Batch 1:  Cost: 0.00716  Valid Accuracy: 0.734\n",
      "Epoch 56, CIFAR-10 Batch 2:  Cost: 0.0135   Valid Accuracy: 0.727\n",
      "Epoch 56, CIFAR-10 Batch 3:  Cost: 0.00688  Valid Accuracy: 0.74 \n",
      "Epoch 56, CIFAR-10 Batch 4:  Cost: 0.00907  Valid Accuracy: 0.738\n",
      "Epoch 56, CIFAR-10 Batch 5:  Cost: 0.00529  Valid Accuracy: 0.737\n",
      "Epoch 57, CIFAR-10 Batch 1:  Cost: 0.0161   Valid Accuracy: 0.723\n",
      "Epoch 57, CIFAR-10 Batch 2:  Cost: 0.014    Valid Accuracy: 0.735\n",
      "Epoch 57, CIFAR-10 Batch 3:  Cost: 0.0064   Valid Accuracy: 0.743\n",
      "Epoch 57, CIFAR-10 Batch 4:  Cost: 0.0082   Valid Accuracy: 0.74 \n",
      "Epoch 57, CIFAR-10 Batch 5:  Cost: 0.00444  Valid Accuracy: 0.739\n",
      "Epoch 58, CIFAR-10 Batch 1:  Cost: 0.00678  Valid Accuracy: 0.738\n",
      "Epoch 58, CIFAR-10 Batch 2:  Cost: 0.00927  Valid Accuracy: 0.734\n",
      "Epoch 58, CIFAR-10 Batch 3:  Cost: 0.00948  Valid Accuracy: 0.734\n",
      "Epoch 58, CIFAR-10 Batch 4:  Cost: 0.00868  Valid Accuracy: 0.734\n",
      "Epoch 58, CIFAR-10 Batch 5:  Cost: 0.00459  Valid Accuracy: 0.738\n",
      "Epoch 59, CIFAR-10 Batch 1:  Cost: 0.00704  Valid Accuracy: 0.739\n",
      "Epoch 59, CIFAR-10 Batch 2:  Cost: 0.00906  Valid Accuracy: 0.74 \n",
      "Epoch 59, CIFAR-10 Batch 3:  Cost: 0.00569  Valid Accuracy: 0.739\n",
      "Epoch 59, CIFAR-10 Batch 4:  Cost: 0.00992  Valid Accuracy: 0.741\n",
      "Epoch 59, CIFAR-10 Batch 5:  Cost: 0.00406  Valid Accuracy: 0.736\n",
      "Epoch 60, CIFAR-10 Batch 1:  Cost: 0.00683  Valid Accuracy: 0.742\n",
      "Epoch 60, CIFAR-10 Batch 2:  Cost: 0.00855  Valid Accuracy: 0.739\n",
      "Epoch 60, CIFAR-10 Batch 3:  Cost: 0.00605  Valid Accuracy: 0.737\n",
      "Epoch 60, CIFAR-10 Batch 4:  Cost: 0.006    Valid Accuracy: 0.733\n",
      "Epoch 60, CIFAR-10 Batch 5:  Cost: 0.00324  Valid Accuracy: 0.744\n",
      "Epoch 61, CIFAR-10 Batch 1:  Cost: 0.00585  Valid Accuracy: 0.734\n",
      "Epoch 61, CIFAR-10 Batch 2:  Cost: 0.0136   Valid Accuracy: 0.733\n",
      "Epoch 61, CIFAR-10 Batch 3:  Cost: 0.00554  Valid Accuracy: 0.737\n",
      "Epoch 61, CIFAR-10 Batch 4:  Cost: 0.009    Valid Accuracy: 0.732\n",
      "Epoch 61, CIFAR-10 Batch 5:  Cost: 0.00441  Valid Accuracy: 0.744\n",
      "Epoch 62, CIFAR-10 Batch 1:  Cost: 0.0103   Valid Accuracy: 0.744\n",
      "Epoch 62, CIFAR-10 Batch 2:  Cost: 0.00961  Valid Accuracy: 0.736\n",
      "Epoch 62, CIFAR-10 Batch 3:  Cost: 0.00886  Valid Accuracy: 0.738\n",
      "Epoch 62, CIFAR-10 Batch 4:  Cost: 0.00603  Valid Accuracy: 0.734\n",
      "Epoch 62, CIFAR-10 Batch 5:  Cost: 0.00316  Valid Accuracy: 0.742\n",
      "Epoch 63, CIFAR-10 Batch 1:  Cost: 0.0104   Valid Accuracy: 0.736\n",
      "Epoch 63, CIFAR-10 Batch 2:  Cost: 0.0167   Valid Accuracy: 0.737\n",
      "Epoch 63, CIFAR-10 Batch 3:  Cost: 0.00491  Valid Accuracy: 0.74 \n",
      "Epoch 63, CIFAR-10 Batch 4:  Cost: 0.00691  Valid Accuracy: 0.742\n",
      "Epoch 63, CIFAR-10 Batch 5:  Cost: 0.00565  Valid Accuracy: 0.737\n",
      "Epoch 64, CIFAR-10 Batch 1:  Cost: 0.00612  Valid Accuracy: 0.741\n",
      "Epoch 64, CIFAR-10 Batch 2:  Cost: 0.0106   Valid Accuracy: 0.727\n",
      "Epoch 64, CIFAR-10 Batch 3:  Cost: 0.00296  Valid Accuracy: 0.748\n",
      "Epoch 64, CIFAR-10 Batch 4:  Cost: 0.00637  Valid Accuracy: 0.736\n",
      "Epoch 64, CIFAR-10 Batch 5:  Cost: 0.00642  Valid Accuracy: 0.73 \n",
      "Epoch 65, CIFAR-10 Batch 1:  Cost: 0.00699  Valid Accuracy: 0.741\n",
      "Epoch 65, CIFAR-10 Batch 2:  Cost: 0.00705  Valid Accuracy: 0.736\n",
      "Epoch 65, CIFAR-10 Batch 3:  Cost: 0.00421  Valid Accuracy: 0.745\n",
      "Epoch 65, CIFAR-10 Batch 4:  Cost: 0.0133   Valid Accuracy: 0.735\n",
      "Epoch 65, CIFAR-10 Batch 5:  Cost: 0.00338  Valid Accuracy: 0.744\n",
      "Epoch 66, CIFAR-10 Batch 1:  Cost: 0.00772  Valid Accuracy: 0.746\n",
      "Epoch 66, CIFAR-10 Batch 2:  Cost: 0.00557  Valid Accuracy: 0.735\n",
      "Epoch 66, CIFAR-10 Batch 3:  Cost: 0.00611  Valid Accuracy: 0.738\n",
      "Epoch 66, CIFAR-10 Batch 4:  Cost: 0.00602  Valid Accuracy: 0.745\n",
      "Epoch 66, CIFAR-10 Batch 5:  Cost: 0.00356  Valid Accuracy: 0.746\n",
      "Epoch 67, CIFAR-10 Batch 1:  Cost: 0.0145   Valid Accuracy: 0.732\n",
      "Epoch 67, CIFAR-10 Batch 2:  Cost: 0.00579  Valid Accuracy: 0.736\n",
      "Epoch 67, CIFAR-10 Batch 3:  Cost: 0.0052   Valid Accuracy: 0.745\n",
      "Epoch 67, CIFAR-10 Batch 4:  Cost: 0.00687  Valid Accuracy: 0.746\n",
      "Epoch 67, CIFAR-10 Batch 5:  Cost: 0.00397  Valid Accuracy: 0.733\n",
      "Epoch 68, CIFAR-10 Batch 1:  Cost: 0.00623  Valid Accuracy: 0.741\n",
      "Epoch 68, CIFAR-10 Batch 2:  Cost: 0.00448  Valid Accuracy: 0.74 \n",
      "Epoch 68, CIFAR-10 Batch 3:  Cost: 0.00768  Valid Accuracy: 0.745\n",
      "Epoch 68, CIFAR-10 Batch 4:  Cost: 0.00746  Valid Accuracy: 0.741\n",
      "Epoch 68, CIFAR-10 Batch 5:  Cost: 0.00314  Valid Accuracy: 0.738\n",
      "Epoch 69, CIFAR-10 Batch 1:  Cost: 0.0074   Valid Accuracy: 0.733\n",
      "Epoch 69, CIFAR-10 Batch 2:  Cost: 0.0101   Valid Accuracy: 0.732\n",
      "Epoch 69, CIFAR-10 Batch 3:  Cost: 0.00498  Valid Accuracy: 0.74 \n",
      "Epoch 69, CIFAR-10 Batch 4:  Cost: 0.00739  Valid Accuracy: 0.74 \n",
      "Epoch 69, CIFAR-10 Batch 5:  Cost: 0.0031   Valid Accuracy: 0.74 \n",
      "Epoch 70, CIFAR-10 Batch 1:  Cost: 0.00739  Valid Accuracy: 0.743\n",
      "Epoch 70, CIFAR-10 Batch 2:  Cost: 0.00681  Valid Accuracy: 0.737\n",
      "Epoch 70, CIFAR-10 Batch 3:  Cost: 0.00473  Valid Accuracy: 0.741\n",
      "Epoch 70, CIFAR-10 Batch 4:  Cost: 0.00887  Valid Accuracy: 0.73 \n",
      "Epoch 70, CIFAR-10 Batch 5:  Cost: 0.0042   Valid Accuracy: 0.746\n",
      "Epoch 71, CIFAR-10 Batch 1:  Cost: 0.00562  Valid Accuracy: 0.742\n",
      "Epoch 71, CIFAR-10 Batch 2:  Cost: 0.00427  Valid Accuracy: 0.742\n",
      "Epoch 71, CIFAR-10 Batch 3:  Cost: 0.00479  Valid Accuracy: 0.739\n",
      "Epoch 71, CIFAR-10 Batch 4:  Cost: 0.00933  Valid Accuracy: 0.742\n",
      "Epoch 71, CIFAR-10 Batch 5:  Cost: 0.00471  Valid Accuracy: 0.742\n",
      "Epoch 72, CIFAR-10 Batch 1:  Cost: 0.00424  Valid Accuracy: 0.742\n",
      "Epoch 72, CIFAR-10 Batch 2:  Cost: 0.00457  Valid Accuracy: 0.74 \n",
      "Epoch 72, CIFAR-10 Batch 3:  Cost: 0.00282  Valid Accuracy: 0.737\n",
      "Epoch 72, CIFAR-10 Batch 4:  Cost: 0.00593  Valid Accuracy: 0.738\n",
      "Epoch 72, CIFAR-10 Batch 5:  Cost: 0.00312  Valid Accuracy: 0.738\n",
      "Epoch 73, CIFAR-10 Batch 1:  Cost: 0.00847  Valid Accuracy: 0.74 \n",
      "Epoch 73, CIFAR-10 Batch 2:  Cost: 0.00766  Valid Accuracy: 0.746\n",
      "Epoch 73, CIFAR-10 Batch 3:  Cost: 0.00352  Valid Accuracy: 0.74 \n",
      "Epoch 73, CIFAR-10 Batch 4:  Cost: 0.00693  Valid Accuracy: 0.736\n",
      "Epoch 73, CIFAR-10 Batch 5:  Cost: 0.0023   Valid Accuracy: 0.741\n",
      "Epoch 74, CIFAR-10 Batch 1:  Cost: 0.00324  Valid Accuracy: 0.746\n",
      "Epoch 74, CIFAR-10 Batch 2:  Cost: 0.00672  Valid Accuracy: 0.745\n",
      "Epoch 74, CIFAR-10 Batch 3:  Cost: 0.0031   Valid Accuracy: 0.745\n",
      "Epoch 74, CIFAR-10 Batch 4:  Cost: 0.0054   Valid Accuracy: 0.734\n",
      "Epoch 74, CIFAR-10 Batch 5:  Cost: 0.0037   Valid Accuracy: 0.746\n",
      "Epoch 75, CIFAR-10 Batch 1:  Cost: 0.00786  Valid Accuracy: 0.741\n",
      "Epoch 75, CIFAR-10 Batch 2:  Cost: 0.00589  Valid Accuracy: 0.741\n",
      "Epoch 75, CIFAR-10 Batch 3:  Cost: 0.00448  Valid Accuracy: 0.739\n",
      "Epoch 75, CIFAR-10 Batch 4:  Cost: 0.00651  Valid Accuracy: 0.741\n",
      "Epoch 75, CIFAR-10 Batch 5:  Cost: 0.0042   Valid Accuracy: 0.738\n",
      "Epoch 76, CIFAR-10 Batch 1:  Cost: 0.00541  Valid Accuracy: 0.751\n",
      "Epoch 76, CIFAR-10 Batch 2:  Cost: 0.00657  Valid Accuracy: 0.741\n",
      "Epoch 76, CIFAR-10 Batch 3:  Cost: 0.00615  Valid Accuracy: 0.739\n",
      "Epoch 76, CIFAR-10 Batch 4:  Cost: 0.00886  Valid Accuracy: 0.743\n",
      "Epoch 76, CIFAR-10 Batch 5:  Cost: 0.00256  Valid Accuracy: 0.746\n",
      "Epoch 77, CIFAR-10 Batch 1:  Cost: 0.00749  Valid Accuracy: 0.743\n",
      "Epoch 77, CIFAR-10 Batch 2:  Cost: 0.00429  Valid Accuracy: 0.743\n",
      "Epoch 77, CIFAR-10 Batch 3:  Cost: 0.00256  Valid Accuracy: 0.738\n",
      "Epoch 77, CIFAR-10 Batch 4:  Cost: 0.00342  Valid Accuracy: 0.74 \n",
      "Epoch 77, CIFAR-10 Batch 5:  Cost: 0.00488  Valid Accuracy: 0.732\n",
      "Epoch 78, CIFAR-10 Batch 1:  Cost: 0.00334  Valid Accuracy: 0.745\n",
      "Epoch 78, CIFAR-10 Batch 2:  Cost: 0.00303  Valid Accuracy: 0.748\n",
      "Epoch 78, CIFAR-10 Batch 3:  Cost: 0.00286  Valid Accuracy: 0.74 \n",
      "Epoch 78, CIFAR-10 Batch 4:  Cost: 0.0056   Valid Accuracy: 0.74 \n",
      "Epoch 78, CIFAR-10 Batch 5:  Cost: 0.00335  Valid Accuracy: 0.731\n",
      "Epoch 79, CIFAR-10 Batch 1:  Cost: 0.00358  Valid Accuracy: 0.745\n",
      "Epoch 79, CIFAR-10 Batch 2:  Cost: 0.00357  Valid Accuracy: 0.749\n",
      "Epoch 79, CIFAR-10 Batch 3:  Cost: 0.00241  Valid Accuracy: 0.741\n",
      "Epoch 79, CIFAR-10 Batch 4:  Cost: 0.00385  Valid Accuracy: 0.739\n",
      "Epoch 79, CIFAR-10 Batch 5:  Cost: 0.00437  Valid Accuracy: 0.73 \n",
      "Epoch 80, CIFAR-10 Batch 1:  Cost: 0.00859  Valid Accuracy: 0.745\n",
      "Epoch 80, CIFAR-10 Batch 2:  Cost: 0.00593  Valid Accuracy: 0.732\n",
      "Epoch 80, CIFAR-10 Batch 3:  Cost: 0.00223  Valid Accuracy: 0.741\n",
      "Epoch 80, CIFAR-10 Batch 4:  Cost: 0.00269  Valid Accuracy: 0.736\n",
      "Epoch 80, CIFAR-10 Batch 5:  Cost: 0.00271  Valid Accuracy: 0.748\n",
      "Epoch 81, CIFAR-10 Batch 1:  Cost: 0.00512  Valid Accuracy: 0.748\n",
      "Epoch 81, CIFAR-10 Batch 2:  Cost: 0.00331  Valid Accuracy: 0.742\n",
      "Epoch 81, CIFAR-10 Batch 3:  Cost: 0.00363  Valid Accuracy: 0.742\n",
      "Epoch 81, CIFAR-10 Batch 4:  Cost: 0.00368  Valid Accuracy: 0.734\n",
      "Epoch 81, CIFAR-10 Batch 5:  Cost: 0.00251  Valid Accuracy: 0.741\n",
      "Epoch 82, CIFAR-10 Batch 1:  Cost: 0.00513  Valid Accuracy: 0.742\n",
      "Epoch 82, CIFAR-10 Batch 2:  Cost: 0.00553  Valid Accuracy: 0.745\n",
      "Epoch 82, CIFAR-10 Batch 3:  Cost: 0.00364  Valid Accuracy: 0.742\n",
      "Epoch 82, CIFAR-10 Batch 4:  Cost: 0.00264  Valid Accuracy: 0.742\n",
      "Epoch 82, CIFAR-10 Batch 5:  Cost: 0.0019   Valid Accuracy: 0.745\n",
      "Epoch 83, CIFAR-10 Batch 1:  Cost: 0.023    Valid Accuracy: 0.744\n",
      "Epoch 83, CIFAR-10 Batch 2:  Cost: 0.00539  Valid Accuracy: 0.746\n",
      "Epoch 83, CIFAR-10 Batch 3:  Cost: 0.00159  Valid Accuracy: 0.745\n",
      "Epoch 83, CIFAR-10 Batch 4:  Cost: 0.00293  Valid Accuracy: 0.74 \n",
      "Epoch 83, CIFAR-10 Batch 5:  Cost: 0.0019   Valid Accuracy: 0.744\n",
      "Epoch 84, CIFAR-10 Batch 1:  Cost: 0.00503  Valid Accuracy: 0.746\n",
      "Epoch 84, CIFAR-10 Batch 2:  Cost: 0.0118   Valid Accuracy: 0.737\n",
      "Epoch 84, CIFAR-10 Batch 3:  Cost: 0.00426  Valid Accuracy: 0.74 \n",
      "Epoch 84, CIFAR-10 Batch 4:  Cost: 0.00292  Valid Accuracy: 0.74 \n",
      "Epoch 84, CIFAR-10 Batch 5:  Cost: 0.00247  Valid Accuracy: 0.742\n",
      "Epoch 85, CIFAR-10 Batch 1:  Cost: 0.00541  Valid Accuracy: 0.748\n",
      "Epoch 85, CIFAR-10 Batch 2:  Cost: 0.00423  Valid Accuracy: 0.744\n",
      "Epoch 85, CIFAR-10 Batch 3:  Cost: 0.00218  Valid Accuracy: 0.742\n",
      "Epoch 85, CIFAR-10 Batch 4:  Cost: 0.00379  Valid Accuracy: 0.742\n",
      "Epoch 85, CIFAR-10 Batch 5:  Cost: 0.00251  Valid Accuracy: 0.737\n",
      "Epoch 86, CIFAR-10 Batch 1:  Cost: 0.00322  Valid Accuracy: 0.75 \n",
      "Epoch 86, CIFAR-10 Batch 2:  Cost: 0.00227  Valid Accuracy: 0.741\n",
      "Epoch 86, CIFAR-10 Batch 3:  Cost: 0.00254  Valid Accuracy: 0.738\n",
      "Epoch 86, CIFAR-10 Batch 4:  Cost: 0.00458  Valid Accuracy: 0.741\n",
      "Epoch 86, CIFAR-10 Batch 5:  Cost: 0.0015   Valid Accuracy: 0.736\n",
      "Epoch 87, CIFAR-10 Batch 1:  Cost: 0.00413  Valid Accuracy: 0.744\n",
      "Epoch 87, CIFAR-10 Batch 2:  Cost: 0.00403  Valid Accuracy: 0.748\n",
      "Epoch 87, CIFAR-10 Batch 3:  Cost: 0.00182  Valid Accuracy: 0.746\n",
      "Epoch 87, CIFAR-10 Batch 4:  Cost: 0.00336  Valid Accuracy: 0.736\n",
      "Epoch 87, CIFAR-10 Batch 5:  Cost: 0.00149  Valid Accuracy: 0.749\n",
      "Epoch 88, CIFAR-10 Batch 1:  Cost: 0.00306  Valid Accuracy: 0.743\n",
      "Epoch 88, CIFAR-10 Batch 2:  Cost: 0.002    Valid Accuracy: 0.747\n",
      "Epoch 88, CIFAR-10 Batch 3:  Cost: 0.00253  Valid Accuracy: 0.738\n",
      "Epoch 88, CIFAR-10 Batch 4:  Cost: 0.0042   Valid Accuracy: 0.738\n",
      "Epoch 88, CIFAR-10 Batch 5:  Cost: 0.0013   Valid Accuracy: 0.747\n",
      "Epoch 89, CIFAR-10 Batch 1:  Cost: 0.00387  Valid Accuracy: 0.75 \n",
      "Epoch 89, CIFAR-10 Batch 2:  Cost: 0.00449  Valid Accuracy: 0.743\n",
      "Epoch 89, CIFAR-10 Batch 3:  Cost: 0.00204  Valid Accuracy: 0.742\n",
      "Epoch 89, CIFAR-10 Batch 4:  Cost: 0.00227  Valid Accuracy: 0.734\n",
      "Epoch 89, CIFAR-10 Batch 5:  Cost: 0.00111  Valid Accuracy: 0.737\n",
      "Epoch 90, CIFAR-10 Batch 1:  Cost: 0.00284  Valid Accuracy: 0.741\n",
      "Epoch 90, CIFAR-10 Batch 2:  Cost: 0.00292  Valid Accuracy: 0.741\n",
      "Epoch 90, CIFAR-10 Batch 3:  Cost: 0.00178  Valid Accuracy: 0.743\n",
      "Epoch 90, CIFAR-10 Batch 4:  Cost: 0.00431  Valid Accuracy: 0.742\n",
      "Epoch 90, CIFAR-10 Batch 5:  Cost: 0.00155  Valid Accuracy: 0.736\n",
      "Epoch 91, CIFAR-10 Batch 1:  Cost: 0.00289  Valid Accuracy: 0.742\n",
      "Epoch 91, CIFAR-10 Batch 2:  Cost: 0.00513  Valid Accuracy: 0.745\n",
      "Epoch 91, CIFAR-10 Batch 3:  Cost: 0.000864 Valid Accuracy: 0.749\n",
      "Epoch 91, CIFAR-10 Batch 4:  Cost: 0.00378  Valid Accuracy: 0.745\n",
      "Epoch 91, CIFAR-10 Batch 5:  Cost: 0.0014   Valid Accuracy: 0.737\n",
      "Epoch 92, CIFAR-10 Batch 1:  Cost: 0.00347  Valid Accuracy: 0.744\n",
      "Epoch 92, CIFAR-10 Batch 2:  Cost: 0.00171  Valid Accuracy: 0.741\n",
      "Epoch 92, CIFAR-10 Batch 3:  Cost: 0.00239  Valid Accuracy: 0.747\n",
      "Epoch 92, CIFAR-10 Batch 4:  Cost: 0.0025   Valid Accuracy: 0.747\n",
      "Epoch 92, CIFAR-10 Batch 5:  Cost: 0.00098  Valid Accuracy: 0.746\n",
      "Epoch 93, CIFAR-10 Batch 1:  Cost: 0.00316  Valid Accuracy: 0.742\n",
      "Epoch 93, CIFAR-10 Batch 2:  Cost: 0.00238  Valid Accuracy: 0.748\n",
      "Epoch 93, CIFAR-10 Batch 3:  Cost: 0.00217  Valid Accuracy: 0.747\n",
      "Epoch 93, CIFAR-10 Batch 4:  Cost: 0.00275  Valid Accuracy: 0.732\n",
      "Epoch 93, CIFAR-10 Batch 5:  Cost: 0.000991 Valid Accuracy: 0.741\n",
      "Epoch 94, CIFAR-10 Batch 1:  Cost: 0.00304  Valid Accuracy: 0.743\n",
      "Epoch 94, CIFAR-10 Batch 2:  Cost: 0.00159  Valid Accuracy: 0.738\n",
      "Epoch 94, CIFAR-10 Batch 3:  Cost: 0.00153  Valid Accuracy: 0.737\n",
      "Epoch 94, CIFAR-10 Batch 4:  Cost: 0.00265  Valid Accuracy: 0.74 \n",
      "Epoch 94, CIFAR-10 Batch 5:  Cost: 0.00113  Valid Accuracy: 0.741\n",
      "Epoch 95, CIFAR-10 Batch 1:  Cost: 0.00425  Valid Accuracy: 0.743\n",
      "Epoch 95, CIFAR-10 Batch 2:  Cost: 0.00218  Valid Accuracy: 0.742\n",
      "Epoch 95, CIFAR-10 Batch 3:  Cost: 0.00343  Valid Accuracy: 0.74 \n",
      "Epoch 95, CIFAR-10 Batch 4:  Cost: 0.002    Valid Accuracy: 0.74 \n",
      "Epoch 95, CIFAR-10 Batch 5:  Cost: 0.00223  Valid Accuracy: 0.74 \n",
      "Epoch 96, CIFAR-10 Batch 1:  Cost: 0.00255  Valid Accuracy: 0.738\n",
      "Epoch 96, CIFAR-10 Batch 2:  Cost: 0.00246  Valid Accuracy: 0.742\n",
      "Epoch 96, CIFAR-10 Batch 3:  Cost: 0.00113  Valid Accuracy: 0.747\n",
      "Epoch 96, CIFAR-10 Batch 4:  Cost: 0.00304  Valid Accuracy: 0.745\n",
      "Epoch 96, CIFAR-10 Batch 5:  Cost: 0.00197  Valid Accuracy: 0.739\n",
      "Epoch 97, CIFAR-10 Batch 1:  Cost: 0.00311  Valid Accuracy: 0.749\n",
      "Epoch 97, CIFAR-10 Batch 2:  Cost: 0.00437  Valid Accuracy: 0.744\n",
      "Epoch 97, CIFAR-10 Batch 3:  Cost: 0.00198  Valid Accuracy: 0.743\n",
      "Epoch 97, CIFAR-10 Batch 4:  Cost: 0.00215  Valid Accuracy: 0.74 \n",
      "Epoch 97, CIFAR-10 Batch 5:  Cost: 0.00203  Valid Accuracy: 0.745\n",
      "Epoch 98, CIFAR-10 Batch 1:  Cost: 0.00204  Valid Accuracy: 0.744\n",
      "Epoch 98, CIFAR-10 Batch 2:  Cost: 0.0017   Valid Accuracy: 0.751\n",
      "Epoch 98, CIFAR-10 Batch 3:  Cost: 0.00101  Valid Accuracy: 0.75 \n",
      "Epoch 98, CIFAR-10 Batch 4:  Cost: 0.00165  Valid Accuracy: 0.747\n",
      "Epoch 98, CIFAR-10 Batch 5:  Cost: 0.00149  Valid Accuracy: 0.751\n",
      "Epoch 99, CIFAR-10 Batch 1:  Cost: 0.00226  Valid Accuracy: 0.746\n",
      "Epoch 99, CIFAR-10 Batch 2:  Cost: 0.00174  Valid Accuracy: 0.748\n",
      "Epoch 99, CIFAR-10 Batch 3:  Cost: 0.00121  Valid Accuracy: 0.738\n",
      "Epoch 99, CIFAR-10 Batch 4:  Cost: 0.0027   Valid Accuracy: 0.741\n",
      "Epoch 99, CIFAR-10 Batch 5:  Cost: 0.00133  Valid Accuracy: 0.742\n",
      "Epoch 100, CIFAR-10 Batch 1:  Cost: 0.0024   Valid Accuracy: 0.745\n",
      "Epoch 100, CIFAR-10 Batch 2:  Cost: 0.00267  Valid Accuracy: 0.744\n",
      "Epoch 100, CIFAR-10 Batch 3:  Cost: 0.00142  Valid Accuracy: 0.745\n",
      "Epoch 100, CIFAR-10 Batch 4:  Cost: 0.00214  Valid Accuracy: 0.745\n",
      "Epoch 100, CIFAR-10 Batch 5:  Cost: 0.00237  Valid Accuracy: 0.74 \n"
     ]
    }
   ],
   "source": [
    "\"\"\"\n",
    "DON'T MODIFY ANYTHING IN THIS CELL\n",
    "\"\"\"\n",
    "save_model_path = './image_classification'\n",
    "\n",
    "print('Training...')\n",
    "with tf.Session() as sess:\n",
    "    # Initializing the variables\n",
    "    sess.run(tf.global_variables_initializer())\n",
    "    \n",
    "    # Training cycle\n",
    "    for epoch in range(epochs):\n",
    "        # Loop over all batches\n",
    "        n_batches = 5\n",
    "        for batch_i in range(1, n_batches + 1):\n",
    "            for batch_features, batch_labels in helper.load_preprocess_training_batch(batch_i, batch_size):\n",
    "                train_neural_network(sess, optimizer, keep_probability, batch_features, batch_labels)\n",
    "            print('Epoch {:>2}, CIFAR-10 Batch {}:  '.format(epoch + 1, batch_i), end='')\n",
    "            print_stats(sess, batch_features, batch_labels, cost, accuracy)\n",
    "            \n",
    "    # Save Model\n",
    "    saver = tf.train.Saver()\n",
    "    save_path = saver.save(sess, save_model_path)"
   ]
  },
  {
   "cell_type": "markdown",
   "metadata": {
    "deletable": true,
    "editable": true
   },
   "source": [
    "# Checkpoint\n",
    "The model has been saved to disk.\n",
    "## Test Model\n",
    "Test your model against the test dataset.  This will be your final accuracy. You should have an accuracy greater than 50%. If you don't, keep tweaking the model architecture and parameters."
   ]
  },
  {
   "cell_type": "code",
   "execution_count": 40,
   "metadata": {
    "collapsed": false,
    "deletable": true,
    "editable": true
   },
   "outputs": [
    {
     "name": "stdout",
     "output_type": "stream",
     "text": [
      "Testing Accuracy: 0.7419921875\n",
      "\n"
     ]
    },
    {
     "data": {
      "image/png": "[encoded data removed]",
      "text/plain": [
       "<matplotlib.figure.Figure at 0x7fe3bc07ec18>"
      ]
     },
     "metadata": {
      "image/png": {
       "height": 319,
       "width": 355
      }
     },
     "output_type": "display_data"
    }
   ],
   "source": [
    "\"\"\"\n",
    "DON'T MODIFY ANYTHING IN THIS CELL\n",
    "\"\"\"\n",
    "%matplotlib inline\n",
    "%config InlineBackend.figure_format = 'retina'\n",
    "\n",
    "import tensorflow as tf\n",
    "import pickle\n",
    "import helper\n",
    "import random\n",
    "\n",
    "# Set batch size if not already set\n",
    "try:\n",
    "    if batch_size:\n",
    "        pass\n",
    "except NameError:\n",
    "    batch_size = 64\n",
    "\n",
    "save_model_path = './image_classification'\n",
    "n_samples = 4\n",
    "top_n_predictions = 3\n",
    "\n",
    "def test_model():\n",
    "    \"\"\"\n",
    "    Test the saved model against the test dataset\n",
    "    \"\"\"\n",
    "\n",
    "    test_features, test_labels = pickle.load(open('preprocess_test.p', mode='rb'))\n",
    "    loaded_graph = tf.Graph()\n",
    "\n",
    "    with tf.Session(graph=loaded_graph) as sess:\n",
    "        # Load model\n",
    "        loader = tf.train.import_meta_graph(save_model_path + '.meta')\n",
    "        loader.restore(sess, save_model_path)\n",
    "\n",
    "        # Get Tensors from loaded model\n",
    "        loaded_x = loaded_graph.get_tensor_by_name('x:0')\n",
    "        loaded_y = loaded_graph.get_tensor_by_name('y:0')\n",
    "        loaded_keep_prob = loaded_graph.get_tensor_by_name('keep_prob:0')\n",
    "        loaded_logits = loaded_graph.get_tensor_by_name('logits:0')\n",
    "        loaded_acc = loaded_graph.get_tensor_by_name('accuracy:0')\n",
    "        \n",
    "        # Get accuracy in batches for memory limitations\n",
    "        test_batch_acc_total = 0\n",
    "        test_batch_count = 0\n",
    "        \n",
    "        for test_feature_batch, test_label_batch in helper.batch_features_labels(test_features, test_labels, batch_size):\n",
    "            test_batch_acc_total += sess.run(\n",
    "                loaded_acc,\n",
    "                feed_dict={loaded_x: test_feature_batch, loaded_y: test_label_batch, loaded_keep_prob: 1.0})\n",
    "            test_batch_count += 1\n",
    "\n",
    "        print('Testing Accuracy: {}\\n'.format(test_batch_acc_total/test_batch_count))\n",
    "\n",
    "        # Print Random Samples\n",
    "        random_test_features, random_test_labels = tuple(zip(*random.sample(list(zip(test_features, test_labels)), n_samples)))\n",
    "        random_test_predictions = sess.run(\n",
    "            tf.nn.top_k(tf.nn.softmax(loaded_logits), top_n_predictions),\n",
    "            feed_dict={loaded_x: random_test_features, loaded_y: random_test_labels, loaded_keep_prob: 1.0})\n",
    "        helper.display_image_predictions(random_test_features, random_test_labels, random_test_predictions)\n",
    "\n",
    "\n",
    "test_model()"
   ]
  },
  {
   "cell_type": "markdown",
   "metadata": {
    "deletable": true,
    "editable": true
   },
   "source": [
    "## Why 50-80% Accuracy?\n",
    "You might be wondering why you can't get an accuracy any higher. First things first, 50% isn't bad for a simple CNN.  Pure guessing would get you 10% accuracy. However, you might notice people are getting scores [well above 80%](http://rodrigob.github.io/are_we_there_yet/build/classification_datasets_results.html#43494641522d3130).  That's because we haven't taught you all there is to know about neural networks. We still need to cover a few more techniques.\n",
    "## Submitting This Project\n",
    "When submitting this project, make sure to run all the cells before saving the notebook.  Save the notebook file as \"dlnd_image_classification.ipynb\" and save it as a HTML file under \"File\" -> \"Download as\".  Include the \"helper.py\" and \"problem_unittests.py\" files in your submission."
   ]
  },
  {
   "cell_type": "code",
   "execution_count": null,
   "metadata": {
    "collapsed": true,
    "deletable": true,
    "editable": true
   },
   "outputs": [],
   "source": []
  }
 ],
 "metadata": {
  "kernelspec": {
   "display_name": "Python 3",
   "language": "python",
   "name": "python3"
  },
  "language_info": {
   "codemirror_mode": {
    "name": "ipython",
    "version": 3
   },
   "file_extension": ".py",
   "mimetype": "text/x-python",
   "name": "python",
   "nbconvert_exporter": "python",
   "pygments_lexer": "ipython3",
   "version": "3.5.3"
  }
 },
 "nbformat": 4,
 "nbformat_minor": 1
}
